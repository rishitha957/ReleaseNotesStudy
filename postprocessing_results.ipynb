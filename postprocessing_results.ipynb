{
 "cells": [
  {
   "cell_type": "code",
   "execution_count": 2,
   "metadata": {},
   "outputs": [],
   "source": [
    "import csv\n",
    "import numpy as np\n",
    "import pandas as pd"
   ]
  },
  {
   "cell_type": "code",
   "execution_count": 16,
   "metadata": {},
   "outputs": [
    {
     "name": "stderr",
     "output_type": "stream",
     "text": [
      "[nltk_data] Downloading package wordnet to\n",
      "[nltk_data]     C:\\Users\\Dell\\AppData\\Roaming\\nltk_data...\n",
      "[nltk_data]   Unzipping corpora\\wordnet.zip.\n"
     ]
    },
    {
     "data": {
      "text/plain": [
       "True"
      ]
     },
     "execution_count": 16,
     "metadata": {},
     "output_type": "execute_result"
    }
   ],
   "source": [
    "#import nltk\n",
    "#nltk.download('wordnet')"
   ]
  },
  {
   "cell_type": "code",
   "execution_count": 3,
   "metadata": {},
   "outputs": [],
   "source": [
    "import nltk\n",
    "from nltk.corpus import wordnet"
   ]
  },
  {
   "cell_type": "code",
   "execution_count": 4,
   "metadata": {},
   "outputs": [],
   "source": [
    "from word_forms.word_forms import get_word_forms"
   ]
  },
  {
   "cell_type": "code",
   "execution_count": 5,
   "metadata": {},
   "outputs": [],
   "source": [
    "with open('deprecation_information2.csv', newline='') as f:\n",
    "    reader = csv.reader(f)\n",
    "    data_i = list(reader)"
   ]
  },
  {
   "cell_type": "code",
   "execution_count": 11,
   "metadata": {},
   "outputs": [],
   "source": [
    "for i in range(len(data_i)):\n",
    "    temp_data_i = []\n",
    "    temp_data_i.append(data_i[i][0])\n",
    "    temp_data_i = temp_data_i + list(set(data_i[i][1:]))\n",
    "    data_i[i] = temp_data_i"
   ]
  },
  {
   "cell_type": "code",
   "execution_count": 12,
   "metadata": {},
   "outputs": [],
   "source": [
    "def jaccard_similarity(list1, list2):\n",
    "    intersection = len(list(set(list1).intersection(list2)))\n",
    "    union = (len(list1) + len(list2)) - intersection\n",
    "    return float(intersection) / union"
   ]
  },
  {
   "cell_type": "code",
   "execution_count": 33,
   "metadata": {},
   "outputs": [],
   "source": [
    "compare_string = ['deprecate','removed','changed','renamed']"
   ]
  },
  {
   "cell_type": "code",
   "execution_count": 32,
   "metadata": {},
   "outputs": [],
   "source": [
    "replace_string = ['replace','instead','in favour of','alternative', 'changed to']"
   ]
  },
  {
   "cell_type": "code",
   "execution_count": 15,
   "metadata": {},
   "outputs": [],
   "source": [
    "def get_synonyms(word):\n",
    "    synonyms = []\n",
    "    for syn in wordnet.synsets(word):\n",
    "        for lm in syn.lemmas():\n",
    "            synonyms.append(lm.name())#adding into synonyms\n",
    "    return list(set(synonyms))"
   ]
  },
  {
   "cell_type": "code",
   "execution_count": 16,
   "metadata": {},
   "outputs": [],
   "source": [
    "def get_all_word_forms(word):\n",
    "    dict1 = get_word_forms(word)\n",
    "    word_forms = []\n",
    "    for d in dict1.values():\n",
    "        for a in d:\n",
    "            word_forms += [a]\n",
    "    return list(set(word_forms))"
   ]
  },
  {
   "cell_type": "code",
   "execution_count": 34,
   "metadata": {},
   "outputs": [
    {
     "name": "stdout",
     "output_type": "stream",
     "text": [
      "['renames', 'deprecatory', 'shift', 'absent', 'modify', 'off', 'distant', 'removed', 'deepen', 'removes', 'changer', 'deprecative', 'murder', 'removers', 'take', 'deprecates', 'rename', 'transfer', 'deprecating', 'switch', 'withdraw', 'get_rid_of', 'bump_off', 'removal', 'remotion', 'hit', 'changing', 'deprecatively', 'move_out', 'remove', 'vary', 'remotions', 'remote', 'deprecated', 'change', 'vilipend', 'deprecation', 'deprecations', 'interchange', 'commute', 'changers', 'exchange', 'changed', 'renaming', 'depreciate', 'renamed', 'take_out', 'removing', 'remover', 'convert', 'changes', 'dispatch', 'alter', 'polish_off', 'slay', 'deprecate', 'removals', 'take_away']\n"
     ]
    }
   ],
   "source": [
    "cmp_str = compare_string\n",
    "for c_str in compare_string:\n",
    "    cmp_str = cmp_str + get_synonyms(c_str)\n",
    "    cmp_str = cmp_str + get_all_word_forms(c_str)\n",
    "cmp_str = list(set(cmp_str))\n",
    "print(cmp_str)"
   ]
  },
  {
   "cell_type": "code",
   "execution_count": 35,
   "metadata": {},
   "outputs": [],
   "source": [
    "deprecate_string = ['deprecate'] + replace_string"
   ]
  },
  {
   "cell_type": "code",
   "execution_count": 36,
   "metadata": {},
   "outputs": [
    {
     "name": "stdout",
     "output_type": "stream",
     "text": [
      "['deprecatory', 'alternative', 'rather', 'replaces', 'deprecative', 'choice', 'deprecates', 'deprecating', 'put_back', 'replacings', 'supplant', 'supersede', 'changed to', 'in favour of', 'deprecatively', 'alternatively', 'deprecated', 'alternate', 'vilipend', 'deprecation', 'deprecations', 'interchange', 'replacing', 'replacement', 'supervene_upon', 'supercede', 'exchange', 'replace', 'instead', 'or_else', 'depreciate', 'option', 'replaced', 'replacements', 'deprecate', 'substitute', 'alternatives']\n"
     ]
    }
   ],
   "source": [
    "dep_str = deprecate_string\n",
    "for c_str in deprecate_string:\n",
    "    dep_str = dep_str + get_synonyms(c_str)\n",
    "    dep_str = dep_str + get_all_word_forms(c_str)\n",
    "dep_str = list(set(dep_str))\n",
    "print(dep_str) "
   ]
  },
  {
   "cell_type": "code",
   "execution_count": 37,
   "metadata": {},
   "outputs": [
    {
     "name": "stdout",
     "output_type": "stream",
     "text": [
      "['alternative', 'rather', 'replaces', 'choice', 'put_back', 'replacings', 'supersede', 'changed to', 'in favour of', 'alternatively', 'alternate', 'interchange', 'replacing', 'replacement', 'supervene_upon', 'supercede', 'exchange', 'replace', 'instead', 'or_else', 'option', 'replaced', 'replacements', 'supplant', 'substitute', 'alternatives']\n"
     ]
    }
   ],
   "source": [
    "rpl_str = replace_string\n",
    "for c_str in replace_string:\n",
    "    rpl_str = rpl_str + get_synonyms(c_str)\n",
    "    rpl_str = rpl_str + get_all_word_forms(c_str)\n",
    "rpl_str = list(set(rpl_str))\n",
    "print(rpl_str)"
   ]
  },
  {
   "cell_type": "code",
   "execution_count": 39,
   "metadata": {
    "scrolled": true
   },
   "outputs": [
    {
     "name": "stdout",
     "output_type": "stream",
     "text": [
      "0 - Community Updates â€” Requests 2.25.1 documentation - 27/226: Replacements - 2/6\n",
      "1 - Release notes â€” pandas 1.2.4 documentation - 647/3738: Replacements - 110/351\n",
      "2 - fire Â· PyPI - 0/23: Replacements - 0/0\n",
      "3 - ccxt Â· PyPI - 0/113: Replacements - 0/0\n",
      "4 - Changelog â€” beets 1.4.9 documentation - 107/561: Replacements - 24/27\n",
      "5 - CHANGELOG - AllenNLP v2.4.0 - 24/193: Replacements - 3/6\n",
      "6 - Theano Release Notes :: NVIDIA Deep Learning Frameworks Documentation - 5/59: Replacements - 0/0\n",
      "7 - Releases | Apache Arrow - 179/2371: Replacements - 6/41\n",
      "8 - Release notes - Albumentations Documentation - 5/33: Replacements - 0/0\n",
      "9 - Changelog â€” Paramiko documentation - 37/198: Replacements - 11/15\n",
      "10 - Altair Change Log â€” Altair 4.1.0 documentation - 6/70: Replacements - 0/0\n",
      "11 - Release notes â€” Scrapy 2.5.0 documentation - 122/571: Replacements - 14/54\n",
      "12 - Changes â€” Werkzeug Documentation (2.1.x) - 50/337: Replacements - 10/24\n",
      "13 - Release Notes â€” Featuretools 0.24.0 documentation - 29/190: Replacements - 5/7\n",
      "14 - Changelog â€” gevent 21.1.3.dev0 documentation - 8/78: Replacements - 0/1\n",
      "15 - Changelog â€” marshmallow 3.12.1 documentation - 38/262: Replacements - 2/12\n",
      "16 - Release History - Stanza - 0/9: Replacements - 0/0\n",
      "17 - Change log â€” Docker SDK for Python 5.0.0 documentation - 31/540: Replacements - 2/6\n",
      "18 - Upgrade Guide â€” CuPy 9.0.0 documentation - 10/49: Replacements - 1/3\n",
      "19 - Changelog â€” Jedi 0.18.0 documentation - 7/67: Replacements - 0/1\n",
      "20 - Asyncpg Changelog - pyup.io - 7/152: Replacements - 1/2\n",
      "21 - Changelog (Version History) â€” Telethon 1.21.1 documentation - 51/630: Replacements - 4/6\n",
      "22 - Changelog â€” librosa 0.8.0 documentation - 25/100: Replacements - 1/14\n",
      "23 - Release History â€” virtualenv 20.4.6.dev2+g7bfd444 documentation - 3/154: Replacements - 0/0\n",
      "24 - Release history â€” Trio 0.18.0+dev documentation - 44/164: Replacements - 2/28\n",
      "25 - Changelog - isort - 17/143: Replacements - 3/7\n",
      "26 - Release Notes â€” MechanicalSoup 1.0.0 documentation - 5/51: Replacements - 0/3\n",
      "27 - Release Notes - mlxtend - 25/220: Replacements - 4/8\n",
      "28 - Version history â€” APScheduler 3.7.0 documentation - 8/107: Replacements - 1/3\n",
      "29 - Changelog â€” websockets 9.0 documentation - 17/132: Replacements - 2/5\n",
      "30 - Changelog - LSP Mode - LSP support for Emacs - 7/78: Replacements - 1/1\n",
      "31 - What's New - 37/354: Replacements - 5/7\n",
      "32 - Release Notes :: NVIDIA Deep Learning DALI Documentation - 39/289: Replacements - 6/17\n",
      "33 - Changelog â€” Dramatiq 1.10.0 documentation - 12/91: Replacements - 0/1\n",
      "34 - Cerberus Changelog â€” Cerberus is a lightweight and extensible data validation library for Python - 15/67: Replacements - 3/7\n",
      "35 - Changelog â€” Authlib 1.0.0.dev documentation - 9/38: Replacements - 0/2\n",
      "36 - Changelog â€” pygal 2.0.0 documentation - 6/52: Replacements - 4/4\n",
      "37 - Changelog â€” ELI5 0.11.0 documentation - 6/72: Replacements - 0/1\n",
      "38 - Changelog â€” LIEF Documentation - 7/93: Replacements - 0/0\n",
      "39 - Thinc Changelog - pyup.io - 6/76: Replacements - 0/1\n",
      "40 - pyserial/CHANGES.rst at master Â· pyserial/pyserial Â· GitHub - 20/162: Replacements - 0/3\n",
      "41 - Pychromecast Changelog - pyup.io - 8/59: Replacements - 3/3\n",
      "42 - Changelog â€” Urwid 2.1.2 - 20/236: Replacements - 1/3\n",
      "43 - Change history â€” Kombu 5.0.2 documentation - 58/538: Replacements - 15/22\n",
      "44 - Changelog â€” django-import-export 2.5.1.dev0 documentation - 10/114: Replacements - 1/3\n",
      "45 - Release Notes â€” Catalyst 0.5.21 documentation - 10/105: Replacements - 5/5\n",
      "46 - viewflow/CHANGELOG.rst at master Â· viewflow/viewflow Â· GitHub - 5/38: Replacements - 1/1\n",
      "47 - News â€” pyquery 1.3.x documentation - 3/36: Replacements - 0/0\n",
      "48 - furl v2.0.0 release notes (2018-10-16) | LibHunt - 0/7: Replacements - 0/0\n",
      "49 - Whatâ€™s New â€” xlwings dev documentation - 26/321: Replacements - 1/3\n",
      "50 - instagram_private_api/CHANGELOG.md at master Â· ping/instagram_private_api Â· GitHub - 2/19: Replacements - 1/2\n",
      "51 - Changelog â€” aeneas 1.7.3 documentation - 20/138: Replacements - 1/2\n",
      "52 - orjson/CHANGELOG.md at master Â· ijl/orjson Â· GitHub - 1/43: Replacements - 0/0\n",
      "53 - pex/CHANGES.rst at main Â· pantsbuild/pex Â· GitHub - 24/166: Replacements - 4/8\n",
      "54 - PyFunctional/CHANGELOG.md at master Â· EntilZha/PyFunctional Â· GitHub - 4/37: Replacements - 1/1\n",
      "55 - javacpp-presets/CHANGELOG.md at master Â· bytedeco/javacpp-presets Â· GitHub - 12/236: Replacements - 1/4\n",
      "56 - PyLaTeX/changelog.rst at master Â· JelteF/PyLaTeX Â· GitHub - 21/91: Replacements - 1/2\n",
      "57 - essentia/Changelog at master Â· MTG/essentia Â· GitHub - 1/43: Replacements - 0/0\n",
      "58 - Changelog â€” Apache Libcloud 3.3.2-dev documentation - 116/710: Replacements - 16/28\n",
      "59 - scrapely/NEWS at master Â· scrapy/scrapely Â· GitHub - 1/9: Replacements - 1/1\n",
      "60 - filterpy/changelog.txt at master Â· rlabbe/filterpy Â· GitHub - 21/145: Replacements - 0/2\n",
      "61 - pgmpy/CHANGELOG.md at dev Â· pgmpy/pgmpy Â· GitHub - 6/29: Replacements - 0/0\n",
      "62 - Release notes Â· andrewssobral/bgslibrary Wiki Â· GitHub - 1/18: Replacements - 0/0\n",
      "63 - stumpy/CHANGELOG.md at main Â· TDAmeritrade/stumpy Â· GitHub - 9/112: Replacements - 1/1\n",
      "64 - Voluptuous Changelog - pyup.io - 4/43: Replacements - 0/0\n",
      "65 - Changelog â€” Tenacity documentation - 0/11: Replacements - 0/0\n",
      "66 - python-miio/CHANGELOG.md at master Â· rytilahti/python-miio Â· GitHub - 21/201: Replacements - 2/5\n",
      "67 - NumCpp: Release Notes - 2/20: Replacements - 0/0\n",
      "68 - Rauth Changelog â€” rauth 0.7.2 documentation - 20/54: Replacements - 0/0\n",
      "69 - abseil-py/CHANGELOG.md at master Â· abseil/abseil-py Â· GitHub - 4/50: Replacements - 0/0\n",
      "70 - shodan-python/CHANGELOG.md at master Â· achillean/shodan-python Â· GitHub - 6/60: Replacements - 0/1\n",
      "71 - Changelog â€” dateutil 2.8.1 documentation - 29/177: Replacements - 3/8\n",
      "72 - Changelog â€” PyCryptodome 3.9.9 documentation - 22/141: Replacements - 0/3\n",
      "73 - aiyprojects-raspbian/CHANGES.md at aiyprojects Â· google/aiyprojects-raspbian Â· GitHub - 3/29: Replacements - 0/0\n",
      "74 - Releases Â· patrikhuber/eos Â· GitHub - 14/65: Replacements - 0/0\n",
      "75 - Changelog â€” AmpliGraph 1.3.0 documentation - 3/48: Replacements - 0/0\n",
      "76 - 4. Release Notes â€” Buildbot 3.1.1 documentation - 23/48: Replacements - 2/14\n",
      "77 - Release Downloads | volatilityfoundation - 3/102: Replacements - 0/0\n",
      "78 - CHANGELOG â€” rqalpha 4.3.x æ–‡æ¡£ - 1/84: Replacements - 0/0\n",
      "79 - Release Notes â€” nameko 2.12.0 documentation - 17/90: Replacements - 0/3\n"
     ]
    }
   ],
   "source": [
    "file1 = open('deprecation_information_post_processed_1.csv', 'w', encoding=\"utf-8\", newline ='')\n",
    "write1 = csv.writer(file1)\n",
    "file2 = open('replacement_information_post_processed_1.csv', 'w', encoding=\"utf-8\", newline ='')\n",
    "write2 = csv.writer(file2)\n",
    "dl = []\n",
    "rl = []\n",
    "for i in range(len(data_i)):\n",
    "#     print(len(data[i]))\n",
    "    c=0\n",
    "    r=0\n",
    "    d=0\n",
    "    d_list = []\n",
    "    d_list.append(data_i[i][0])\n",
    "    r_list = []\n",
    "    r_list.append(data_i[i][0])\n",
    "    for j in range(len(data_i[i])):\n",
    "#         print(data[i][j])\n",
    "        s_score = jaccard_similarity(data_i[i][j].split(\" \"),cmp_str)\n",
    "        if(s_score!=0.0):\n",
    "            c+=1\n",
    "#             write1.writerow([str(data_i[i][j])])\n",
    "            r_score = jaccard_similarity(data_i[i][j].split(\" \"),rpl_str)\n",
    "            if(r_score!=0.0):\n",
    "                r+=1\n",
    "                r_list.append([str(data_i[i][j])])\n",
    "            d_score = jaccard_similarity(data_i[i][j].split(\" \"),dep_str)\n",
    "            if(d_score!=0.0):\n",
    "                d+=1\n",
    "                d_list.append(data_i[i][j])\n",
    "#             print(data[i][j],r_score)\n",
    "    write1.writerow(d_list)\n",
    "    write2.writerow(r_list)\n",
    "    rl.append(int(r))\n",
    "    dl.append(int(c))\n",
    "    print(str(i)+\" - \"+data_i[i][0]+\" - \"+str(c)+\"/\"+str(len(data_i[i]))+\": Replacements - \"+str(r)+\"/\"+str(d))"
   ]
  },
  {
   "cell_type": "code",
   "execution_count": 44,
   "metadata": {},
   "outputs": [],
   "source": [
    "help_eval = 1"
   ]
  },
  {
   "cell_type": "code",
   "execution_count": 42,
   "metadata": {},
   "outputs": [],
   "source": [
    "## Helper code to map library name to release notes URl\n",
    "\n",
    "if(help_eval==1):\n",
    "    from selenium import webdriver\n",
    "    file_name = \"python_libraries - python_libraries.csv\"\n",
    "    with open(file_name,newline=\"\") as f:\n",
    "        reader = csv.reader(f)\n",
    "        data = list(reader)\n",
    "    url_to_title_map = {}\n",
    "    driver = webdriver.Firefox()\n",
    "    for i in range(len(data)):\n",
    "        if(data[i][1]=='-' or data[i][1]==''): \n",
    "            continue\n",
    "        rn_url = data[i][1]\n",
    "        driver.get(rn_url)\n",
    "        url_to_title_map[rn_url] = driver.title"
   ]
  },
  {
   "cell_type": "code",
   "execution_count": 45,
   "metadata": {},
   "outputs": [
    {
     "name": "stdout",
     "output_type": "stream",
     "text": [
      "{'https://docs.python-requests.org/en/latest/community/updates/#release-history': 'Community Updates — Requests 2.25.1 documentation', 'https://pandas.pydata.org/docs/whatsnew/index.html': 'Release notes — pandas 1.2.4 documentation', 'https://www.tornadoweb.org/en/stable/releases.html': 'Release notes — Tornado 6.1 documentation', 'https://pypi.org/project/fire/#history': 'fire · PyPI', 'https://pypi.org/project/ccxt/1.42.61/#history': 'fire · PyPI', 'https://beets.readthedocs.io/en/stable/changelog.html': 'Changelog — beets 1.4.9 documentation', 'http://docs.allennlp.org/main/CHANGELOG/': 'CHANGELOG - AllenNLP v2.4.0', 'https://docs.nvidia.com/deeplearning/frameworks/theano-release-notes/index.html': 'Theano Release Notes :: NVIDIA Deep Learning Frameworks Documentation', 'https://pillow.readthedocs.io/en/stable/releasenotes/index.html': 'Release Notes — Pillow (PIL Fork) 8.2.0 documentation', 'https://arrow.apache.org/release/': 'Releases | Apache Arrow', 'https://albumentations.ai/docs/release_notes/': 'Release notes - Albumentations Documentation', 'http://www.paramiko.org/changelog.html': 'Changelog — Paramiko documentation', 'https://altair-viz.github.io/releases/changes.html': 'Altair Change Log — Altair 4.1.0 documentation', 'https://docs.scrapy.org/en/latest/news.html': 'Release notes — Scrapy 2.5.0 documentation', 'https://werkzeug.palletsprojects.com/en/latest/changes/': 'Changes — Werkzeug Documentation (2.1.x)', 'https://featuretools.alteryx.com/en/stable/release_notes.html?highlight=release': 'Release Notes — Featuretools 0.24.0 documentation', 'http://www.gevent.org/changelog.html#id1': 'Changelog — gevent 21.1.3.dev0 documentation', 'https://marshmallow.readthedocs.io/en/stable/changelog.html?highlight=releases': 'Changelog — marshmallow 3.12.1 documentation', 'https://stanfordnlp.github.io/stanza/release_history.html': 'Release History - Stanza', 'https://docker-py.readthedocs.io/en/stable/change-log.html': 'Change log — Docker SDK for Python 5.0.0 documentation', 'https://docs.cupy.dev/en/stable/upgrade.html?highlight=releases#api-changes': 'Upgrade Guide — CuPy 9.0.0 documentation', 'https://jedi.readthedocs.io/en/latest/docs/changelog.html': 'Changelog — Jedi 0.18.0 documentation', 'https://pyup.io/changelogs/asyncpg/': 'Asyncpg Changelog - pyup.io', 'https://docs.telethon.dev/en/latest/misc/changelog.html?highlight=releases#deprecation': 'Changelog (Version History) — Telethon 1.21.1 documentation', 'https://librosa.org/doc/latest/changelog.html': 'Changelog — librosa 0.8.0 documentation', 'https://virtualenv.pypa.io/en/latest/changelog.html': 'Release History — virtualenv 20.4.6.dev2+g7bfd444 documentation', 'https://trio.readthedocs.io/en/latest/history.html': 'Release history — Trio 0.18.0+dev documentation', 'https://pycqa.github.io/isort/CHANGELOG/': 'Changelog - isort', 'https://mechanicalsoup.readthedocs.io/en/stable/ChangeLog.html': 'Release Notes — MechanicalSoup 1.0.0 documentation', 'https://github.com/kubernetes-client/python/blob/release-17.0/CHANGELOG.md': 'python/CHANGELOG.md at release-17.0 · kubernetes-client/python · GitHub', 'https://pyup.io/changelogs/pytorch-ignite/': 'Pytorch-ignite Changelog - pyup.io', 'http://rasbt.github.io/mlxtend/CHANGELOG/': 'Release Notes - mlxtend', 'https://apscheduler.readthedocs.io/en/latest/versionhistory.html': 'Version history — APScheduler 3.7.0 documentation', 'https://geopy.readthedocs.io/en/stable/#changelog': 'Welcome to GeoPy’s documentation! — GeoPy 2.1.0 documentation', 'https://websockets.readthedocs.io/en/stable/changelog.html': 'Changelog — websockets 9.0 documentation', 'https://github.com/gbeced/pyalgotrade/blob/master/CHANGELOG': 'pyalgotrade/CHANGELOG at master · gbeced/pyalgotrade · GitHub', 'https://emacs-lsp.github.io/lsp-mode/page/CHANGELOG/': 'Changelog - LSP Mode - LSP support for Emacs', 'https://www.pygame.org/whatsnew.shtml': \"What's New\", 'https://docs.nvidia.com/deeplearning/dali/release-notes/index.html': 'Release Notes :: NVIDIA Deep Learning DALI Documentation', 'https://dramatiq.io/changelog.html?highlight=releases': 'Changelog — Dramatiq 1.10.0 documentation', 'https://github.com/pksunkara/alpaca/blob/b86d46b3bf2c09826bd53e33399ac7055147dcc0/CHANGELOG.md': 'alpaca/CHANGELOG.md at b86d46b3bf2c09826bd53e33399ac7055147dcc0 · pksunkara/alpaca · GitHub', 'https://docs.python-cerberus.org/en/stable/changelog.html': 'Cerberus Changelog — Cerberus is a lightweight and extensible data validation library for Python', 'https://docs.authlib.org/en/latest/changelog.html': 'Changelog — Authlib 1.0.0.dev documentation', 'http://www.pygal.org/en/stable/changelog.html': 'Changelog — pygal 2.0.0 documentation', 'https://eli5.readthedocs.io/en/latest/changes.html': 'Changelog — ELI5 0.11.0 documentation', 'https://lief.quarkslab.com/doc/stable/changelog.html#v0.11.0': 'Changelog — LIEF Documentation', 'https://pyup.io/changelogs/thinc/': 'Thinc Changelog - pyup.io', 'https://github.com/pyserial/pyserial/blob/master/CHANGES.rst': 'pyserial/CHANGES.rst at master · pyserial/pyserial · GitHub', 'https://pyup.io/changelogs/pychromecast/': 'Pychromecast Changelog - pyup.io', 'http://urwid.org/changelog.html': 'Changelog — Urwid 2.1.2', 'https://docs.celeryproject.org/projects/kombu/en/stable/changelog.html?highlight=releases': 'Change history — Kombu 5.0.2 documentation', 'https://django-import-export.readthedocs.io/en/latest/changelog.html': 'Changelog — django-import-export 2.5.1.dev0 documentation', 'https://www.enigma.co/catalyst/releases.html': 'Release Notes — Catalyst 0.5.21 documentation', 'https://github.com/viewflow/viewflow/blob/master/CHANGELOG.rst': 'viewflow/CHANGELOG.rst at master · viewflow/viewflow · GitHub', 'https://pyquery.readthedocs.io/en/latest/changes.html?highlight=releases': 'News — pyquery 1.3.x documentation', 'https://python.libhunt.com/furl-changelog/2.0.0': 'furl v2.0.0 release notes (2018-10-16) | LibHunt', 'https://docs.xlwings.org/en/stable/whatsnew.html': 'What’s New — xlwings dev documentation', 'https://github.com/ping/instagram_private_api/blob/master/CHANGELOG.md': 'instagram_private_api/CHANGELOG.md at master · ping/instagram_private_api · GitHub', 'https://www.readbeyond.it/aeneas/docs/changelog.html': 'Changelog — aeneas 1.7.3 documentation', 'https://github.com/ijl/orjson/blob/master/CHANGELOG.md': 'orjson/CHANGELOG.md at master · ijl/orjson · GitHub', 'https://github.com/pantsbuild/pex/blob/main/CHANGES.rst': 'pex/CHANGES.rst at main · pantsbuild/pex · GitHub', 'https://github.com/EntilZha/PyFunctional/blob/master/CHANGELOG.md': 'PyFunctional/CHANGELOG.md at master · EntilZha/PyFunctional · GitHub', 'https://github.com/bytedeco/javacpp-presets/blob/master/CHANGELOG.md': 'javacpp-presets/CHANGELOG.md at master · bytedeco/javacpp-presets · GitHub', 'https://github.com/JelteF/PyLaTeX/blob/master/docs/source/changelog.rst': 'PyLaTeX/changelog.rst at master · JelteF/PyLaTeX · GitHub', 'https://github.com/MTG/essentia/blob/master/Changelog': 'essentia/Changelog at master · MTG/essentia · GitHub', 'https://libcloud.readthedocs.io/en/latest/changelog.html': 'Changelog — Apache Libcloud 3.3.2-dev documentation', 'https://github.com/scrapy/scrapely/blob/master/NEWS': 'scrapely/NEWS at master · scrapy/scrapely · GitHub', 'https://github.com/rlabbe/filterpy/blob/master/filterpy/changelog.txt': 'filterpy/changelog.txt at master · rlabbe/filterpy · GitHub', 'https://github.com/pgmpy/pgmpy/blob/dev/CHANGELOG.md': 'pgmpy/CHANGELOG.md at dev · pgmpy/pgmpy · GitHub', 'https://github.com/andrewssobral/bgslibrary/wiki/Release-notes': 'Release notes · andrewssobral/bgslibrary Wiki · GitHub', 'https://github.com/TDAmeritrade/stumpy/blob/main/CHANGELOG.md': 'stumpy/CHANGELOG.md at main · TDAmeritrade/stumpy · GitHub', 'https://pyup.io/changelogs/voluptuous/': 'Voluptuous Changelog - pyup.io', 'https://tenacity.readthedocs.io/en/latest/changelog.html': 'Changelog — Tenacity documentation', 'https://github.com/rytilahti/python-miio/blob/master/CHANGELOG.md': 'python-miio/CHANGELOG.md at master · rytilahti/python-miio · GitHub', 'https://docs.pyrogram.org/releases/': 'Release Notes — Pyrogram Documentation', 'https://dpilger26.github.io/NumCpp/doxygen/html/md__c_1__github__num_cpp_docs_markdown__release_notes.html': 'NumCpp: Release Notes', 'https://rauth.readthedocs.io/en/latest/changelog/#': 'Rauth Changelog — rauth 0.7.2 documentation', 'https://github.com/abseil/abseil-py/blob/master/absl/CHANGELOG.md': 'abseil-py/CHANGELOG.md at master · abseil/abseil-py · GitHub', 'https://github.com/achillean/shodan-python/blob/master/CHANGELOG.md': 'shodan-python/CHANGELOG.md at master · achillean/shodan-python · GitHub', 'https://dateutil.readthedocs.io/en/stable/changelog.html': 'Changelog — dateutil 2.8.1 documentation', 'https://pycryptodome.readthedocs.io/en/latest/src/changelog.html': 'Changelog — PyCryptodome 3.9.9 documentation', 'https://github.com/google/aiyprojects-raspbian/blob/aiyprojects/CHANGES.md': 'aiyprojects-raspbian/CHANGES.md at aiyprojects · google/aiyprojects-raspbian · GitHub', 'https://github.com/patrikhuber/eos/releases': 'Releases · patrikhuber/eos · GitHub', 'https://rqalpha.readthedocs.io/zh_CN/latest/history.html': 'CHANGELOG — rqalpha 4.3.x 文档', 'https://nameko.readthedocs.io/en/stable/release_notes.html': 'Release Notes — nameko 2.12.0 documentation'}\n"
     ]
    }
   ],
   "source": [
    "if(help_eval == 1):\n",
    "    print(url_to_title_map)"
   ]
  },
  {
   "cell_type": "code",
   "execution_count": 37,
   "metadata": {},
   "outputs": [],
   "source": [
    "#helper code\n",
    "#To get no. of releases in each library\n",
    "\n",
    "if help_eval == 1:\n",
    "    file_name = \"python_libraries - python_libraries.csv\"\n",
    "    with open(file_name,newline=\"\") as f:\n",
    "        reader = csv.reader(f)\n",
    "        data = list(reader)\n",
    "    driver = webdriver.Firefox()\n",
    "    r =[]\n",
    "    for i in range(len(data)):\n",
    "        if(data[i][1]=='-' or data[i][1]==''): \n",
    "            continue\n",
    "        git_url = data[i][0]\n",
    "        driver.get(git_url)\n",
    "    #     stars = driver.find_element_by_xpath('//*[contains(concat( \" \", @class, \" \" ), concat( \" \", \"js-social-count\", \" \" ))]').text\n",
    "    #     forks = driver.find_element_by_xpath('//form+//*[contains(concat( \" \", @class, \" \" ), concat( \" \", \"social-count\", \" \" ))]').text\n",
    "        try:\n",
    "            releases = driver.find_element_by_xpath('//*+[contains(concat( \" \", @class, \" \" ), concat( \" \", \"hide-md\", \" \" ))]//*[contains(concat( \" \", @class, \" \" ), concat( \" \", \"BorderGrid-row\", \" \" ))]//*[contains(concat( \" \", @class, \" \" ), concat( \" \", \"Counter\", \" \" ))]').text\n",
    "            r.append(releases)\n",
    "        except:\n",
    "            releases = driver.find_element_by_xpath('//*[contains(concat( \" \", @class, \" \" ), concat( \" \", \"ml-3\", \" \" )) and contains(concat( \" \", @class, \" \" ), concat( \" \", \"no-underline\", \" \" ))]').text\n",
    "            r.append(releases)"
   ]
  },
  {
   "cell_type": "code",
   "execution_count": 55,
   "metadata": {},
   "outputs": [],
   "source": [
    "#helper code \n",
    "#To get Release notes with URLs available in Official Website\n",
    "if help_eval == 1:\n",
    "    rn_urls = []\n",
    "    for i in range(len(data)):\n",
    "        if(data[i][1]=='-' or data[i][1]==''): \n",
    "            continue\n",
    "        rn_urls.append(data[i][1])"
   ]
  },
  {
   "cell_type": "code",
   "execution_count": 57,
   "metadata": {},
   "outputs": [
    {
     "name": "stdout",
     "output_type": "stream",
     "text": [
      "['https://docs.python-requests.org/en/latest/community/updates/#release-history', 'https://pandas.pydata.org/docs/whatsnew/index.html', 'https://www.tornadoweb.org/en/stable/releases.html', 'https://pypi.org/project/fire/#history', 'https://pypi.org/project/ccxt/1.42.61/#history', 'https://beets.readthedocs.io/en/stable/changelog.html', 'http://docs.allennlp.org/main/CHANGELOG/', 'https://docs.nvidia.com/deeplearning/frameworks/theano-release-notes/index.html', 'https://pillow.readthedocs.io/en/stable/releasenotes/index.html', 'https://arrow.apache.org/release/', 'https://albumentations.ai/docs/release_notes/', 'http://www.paramiko.org/changelog.html', 'https://altair-viz.github.io/releases/changes.html', 'https://docs.scrapy.org/en/latest/news.html', 'https://werkzeug.palletsprojects.com/en/latest/changes/', 'https://featuretools.alteryx.com/en/stable/release_notes.html?highlight=release', 'http://www.gevent.org/changelog.html#id1', 'https://marshmallow.readthedocs.io/en/stable/changelog.html?highlight=releases', 'https://stanfordnlp.github.io/stanza/release_history.html', 'https://docker-py.readthedocs.io/en/stable/change-log.html', 'https://docs.cupy.dev/en/stable/upgrade.html?highlight=releases#api-changes', 'https://jedi.readthedocs.io/en/latest/docs/changelog.html', 'https://pyup.io/changelogs/asyncpg/', 'https://docs.telethon.dev/en/latest/misc/changelog.html?highlight=releases#deprecation', 'https://librosa.org/doc/latest/changelog.html', 'https://virtualenv.pypa.io/en/latest/changelog.html', 'https://trio.readthedocs.io/en/latest/history.html', 'https://pycqa.github.io/isort/CHANGELOG/', 'https://mechanicalsoup.readthedocs.io/en/stable/ChangeLog.html', 'https://github.com/kubernetes-client/python/blob/release-17.0/CHANGELOG.md', 'https://pyup.io/changelogs/pytorch-ignite/', 'http://rasbt.github.io/mlxtend/CHANGELOG/', 'https://apscheduler.readthedocs.io/en/latest/versionhistory.html', 'https://geopy.readthedocs.io/en/stable/#changelog', 'https://websockets.readthedocs.io/en/stable/changelog.html', 'https://github.com/gbeced/pyalgotrade/blob/master/CHANGELOG', 'https://emacs-lsp.github.io/lsp-mode/page/CHANGELOG/', 'https://www.pygame.org/whatsnew.shtml', 'https://docs.nvidia.com/deeplearning/dali/release-notes/index.html', 'https://dramatiq.io/changelog.html?highlight=releases', 'https://github.com/pksunkara/alpaca/blob/b86d46b3bf2c09826bd53e33399ac7055147dcc0/CHANGELOG.md', 'https://docs.python-cerberus.org/en/stable/changelog.html', 'https://docs.authlib.org/en/latest/changelog.html', 'http://www.pygal.org/en/stable/changelog.html', 'https://eli5.readthedocs.io/en/latest/changes.html', 'https://lief.quarkslab.com/doc/stable/changelog.html#v0.11.0', 'https://pyup.io/changelogs/thinc/', 'https://github.com/pyserial/pyserial/blob/master/CHANGES.rst', 'https://pyup.io/changelogs/pychromecast/', 'http://urwid.org/changelog.html', 'https://docs.celeryproject.org/projects/kombu/en/stable/changelog.html?highlight=releases', 'https://django-import-export.readthedocs.io/en/latest/changelog.html', 'https://www.enigma.co/catalyst/releases.html', 'https://github.com/viewflow/viewflow/blob/master/CHANGELOG.rst', 'https://pyquery.readthedocs.io/en/latest/changes.html?highlight=releases', 'https://python.libhunt.com/furl-changelog/2.0.0', 'https://docs.xlwings.org/en/stable/whatsnew.html', 'https://github.com/ping/instagram_private_api/blob/master/CHANGELOG.md', 'https://www.readbeyond.it/aeneas/docs/changelog.html', 'https://github.com/ijl/orjson/blob/master/CHANGELOG.md', 'https://github.com/pantsbuild/pex/blob/main/CHANGES.rst', 'https://github.com/EntilZha/PyFunctional/blob/master/CHANGELOG.md', 'https://github.com/bytedeco/javacpp-presets/blob/master/CHANGELOG.md', 'https://github.com/JelteF/PyLaTeX/blob/master/docs/source/changelog.rst', 'https://github.com/MTG/essentia/blob/master/Changelog', 'https://libcloud.readthedocs.io/en/latest/changelog.html', 'https://github.com/scrapy/scrapely/blob/master/NEWS', 'https://github.com/rlabbe/filterpy/blob/master/filterpy/changelog.txt', 'https://github.com/pgmpy/pgmpy/blob/dev/CHANGELOG.md', 'https://github.com/andrewssobral/bgslibrary/wiki/Release-notes', 'https://github.com/TDAmeritrade/stumpy/blob/main/CHANGELOG.md', 'https://pyup.io/changelogs/voluptuous/', 'https://tenacity.readthedocs.io/en/latest/changelog.html', 'https://github.com/rytilahti/python-miio/blob/master/CHANGELOG.md', 'https://docs.pyrogram.org/releases/', 'https://dpilger26.github.io/NumCpp/doxygen/html/md__c_1__github__num_cpp_docs_markdown__release_notes.html', 'https://rauth.readthedocs.io/en/latest/changelog/#', 'https://github.com/abseil/abseil-py/blob/master/absl/CHANGELOG.md', 'https://github.com/achillean/shodan-python/blob/master/CHANGELOG.md', 'https://dateutil.readthedocs.io/en/stable/changelog.html', 'https://pycryptodome.readthedocs.io/en/latest/src/changelog.html', 'https://github.com/google/aiyprojects-raspbian/blob/aiyprojects/CHANGES.md', 'https://github.com/patrikhuber/eos/releases', 'https://rqalpha.readthedocs.io/zh_CN/latest/history.html', 'https://nameko.readthedocs.io/en/stable/release_notes.html']\n"
     ]
    }
   ],
   "source": [
    "if(help_eval==1):\n",
    "    print(rn_urls)"
   ]
  },
  {
   "cell_type": "code",
   "execution_count": 59,
   "metadata": {},
   "outputs": [
    {
     "name": "stdout",
     "output_type": "stream",
     "text": [
      "['https://pandas.pydata.org/docs/whatsnew/index.html', 'https://github.com/google/aiyprojects-raspbian/blob/aiyprojects/CHANGES.md', 'https://pillow.readthedocs.io/en/stable/releasenotes/index.html', 'https://pycryptodome.readthedocs.io/en/latest/src/changelog.html', 'https://github.com/achillean/shodan-python/blob/master/CHANGELOG.md', 'https://github.com/scrapy/scrapely/blob/master/NEWS', 'https://docs.scrapy.org/en/latest/news.html', 'https://github.com/bytedeco/javacpp-presets/blob/master/CHANGELOG.md', 'https://github.com/JelteF/PyLaTeX/blob/master/docs/source/changelog.rst', 'http://urwid.org/changelog.html', 'https://github.com/pyserial/pyserial/blob/master/CHANGES.rst', 'https://websockets.readthedocs.io/en/stable/changelog.html', 'https://lief.quarkslab.com/doc/stable/changelog.html#v0.11.0', 'https://trio.readthedocs.io/en/latest/history.html', 'https://docs.pyrogram.org/releases/', 'https://pyquery.readthedocs.io/en/latest/changes.html?highlight=releases']\n"
     ]
    }
   ],
   "source": [
    "#helper code, to randomly select n liraries for manual evaluation\n",
    "\n",
    "if(help_eval == 1):\n",
    "    import random\n",
    "    print(random.sample(rn_urls, 16))"
   ]
  },
  {
   "cell_type": "code",
   "execution_count": 79,
   "metadata": {},
   "outputs": [
    {
     "data": {
      "text/plain": [
       "'aiyprojects-raspbian/CHANGES.md at aiyprojects · google/aiyprojects-raspbian · GitHub'"
      ]
     },
     "execution_count": 79,
     "metadata": {},
     "output_type": "execute_result"
    }
   ],
   "source": [
    "if(help_eval == 1):\n",
    "    url_to_title_map['https://github.com/google/aiyprojects-raspbian/blob/aiyprojects/CHANGES.md']"
   ]
  },
  {
   "cell_type": "code",
   "execution_count": 42,
   "metadata": {},
   "outputs": [
    {
     "name": "stdout",
     "output_type": "stream",
     "text": [
      "['141 tags', '131 tags', '63 tags', '10 tags', '431 tags', '54 tags', '55 tags', '34 tags', '72 tags', '35 tags', '8 tags', '162 tags', '23 tags', '525 tags', '70 tags', '94 tags', '92 tags', '159 tags', '8 tags', '113 tags', '91 tags', '27 tags', '32 tags', '133 tags', '28 tags', '164 tags', '20 tags', '132 tags', '24 tags', '61 tags', '12 tags', '24 tags', '41 tags', '64 tags', '27 tags', '19 tags', '11 tags', '61 tags', '109 tags', '54 tags', '3 tags', '16 tags', '25 tags', '24 tags', '27 tags', '15 tags', '60 tags', '35 tags', '68 tags', '46 tags', '151 tags', '48 tags', '52 tags', '31 tags', '19 tags', '18 tags', '95 tags', '39 tags', '28 tags', '64 tags', '123 tags', '20 tags', '21 tags', '21 tags', '8 tags', '76 tags', '13 tags', '37 tags', '7 tags', '13 tags', '18 tags', '34 tags', '10 tags', '41 tags', '31 tags', '9 tags', '47 tags', '20 tags', '32 tags', '19 tags', '90 tags', '10 tags', '34 tags', '104 tags', '107 tags']\n",
      "85\n"
     ]
    }
   ],
   "source": [
    "if(help_eval==1):\n",
    "    print(r)\n",
    "    print(len(r))\n",
    "    for i in range(len(r)):\n",
    "        r[i] = int(r[i].split(\" \")[0])\n",
    "    r.sort()"
   ]
  },
  {
   "cell_type": "code",
   "execution_count": 45,
   "metadata": {},
   "outputs": [
    {
     "data": {
      "text/plain": [
       "525"
      ]
     },
     "execution_count": 45,
     "metadata": {},
     "output_type": "execute_result"
    }
   ],
   "source": [
    "if(help_eval==1):\n",
    "    r[len(r)-1]"
   ]
  },
  {
   "cell_type": "code",
   "execution_count": 46,
   "metadata": {},
   "outputs": [
    {
     "name": "stdout",
     "output_type": "stream",
     "text": [
      "70\n",
      "13\n",
      "0\n",
      "0\n",
      "1\n",
      "1\n"
     ]
    }
   ],
   "source": [
    "#helper code\n",
    "#to get no.of python libraries analyzed which has releases in the given range\n",
    "\n",
    "if(help_eval==1):\n",
    "    def count(list1, l, r):\n",
    "        c = 0 \n",
    "        # traverse in the list1\n",
    "        for x in list1:\n",
    "            # condition check\n",
    "            if x>= l and x<= r:\n",
    "                c+= 1 \n",
    "        return c\n",
    "    print(count(r,0,100))\n",
    "    print(count(r,100,200))\n",
    "    print(count(r,200,300))\n",
    "    print(count(r,300,400))\n",
    "    print(count(r,400,500))\n",
    "    print(count(r,500,600))"
   ]
  },
  {
   "cell_type": "code",
   "execution_count": 54,
   "metadata": {},
   "outputs": [
    {
     "name": "stdout",
     "output_type": "stream",
     "text": [
      "31\n",
      "47\n",
      "2\n",
      "64\n",
      "15\n",
      "1\n"
     ]
    }
   ],
   "source": [
    "#helper code\n",
    "#to get no of deprecation and replacement messages, in the given range\n",
    "\n",
    "if(help_eval==1):\n",
    "    dl.sort()\n",
    "    rl.sort()\n",
    "    print(count(dl,0,0))\n",
    "    print(count(dl,1,100))\n",
    "    print(count(dl,101,400))\n",
    "    print(count(rl,0,0))\n",
    "    print(count(rl,1,50))\n",
    "    print(count(rl,50,100))"
   ]
  },
  {
   "cell_type": "code",
   "execution_count": 74,
   "metadata": {},
   "outputs": [
    {
     "name": "stdout",
     "output_type": "stream",
     "text": [
      "['Community Updates â€” Requests 2.25.1 documentation', 6, 2, 'when passed objects that throw exceptions from tell, send them via chunked transfer encoding instead of failing.']\n",
      "['Release notes â€” pandas 1.2.4 documentation', 351, 110, 'removed the previously deprecated keyword index from read_stata, statareader, and statareader.read, use index_col instead ']\n",
      "['fire Â· PyPI', 0, 0, ' - ']\n",
      "['ccxt Â· PyPI', 0, 0, ' - ']\n",
      "['Changelog â€” beets 1.4.9 documentation', 27, 24, 'when previewing changes during import, differences in track duration are now shown as 2:50 vs. 3:10 rather than separated with -> like track numbers. this should clarify that beets isn t doing anything to modify lengths.']\n",
      "['CHANGELOG - AllenNLP v2.4.0', 6, 3, 'allennlp.common.util.peak_memory_mb renamed to peak_cpu_memory, and allennlp.common.util.gpu_memory_mb renamed to peak_gpu_memory, and they both now return the results in bytes as integers. also, the peak_gpu_memory function now utilizes pytorch functions to find the memory usage instead of shelling out to the nvidia-smi command. this is more efficient and also more accurate because it only takes into account the tensor allocations of the current pytorch process.']\n",
      "['Theano Release Notes :: NVIDIA Deep Learning Frameworks Documentation', 0, 0, ' - ']\n",
      "['Releases | Apache Arrow', 41, 6, 'arrow-10261 - lists should take field instead of datatype']\n",
      "['Release notes - Albumentations Documentation', 0, 0, ' - ']\n",
      "['Changelog â€” Paramiko documentation', 15, 11, ' #356: add support for sha-2 based key exchange algorithm diffie-hellman-group-exchange-sha256 and mac algorithms hmac-sha2-256 and hmac-sha2-512.']\n",
      "['Altair Change Log â€” Altair 4.1.0 documentation', 0, 0, ' - ']\n",
      "['Release notes â€” Scrapy 2.5.0 documentation', 54, 14, 'replaced memory usage acounting with resource module, removed scrapy.utils.memory module']\n",
      "['Changes â€” Werkzeug Documentation (2.1.x)', 24, 10, 'overhauled the utilization of the input stream to be easier to use and better to extend. the detection of content payload on the input side is now more compliant with http by detecting off the content type header instead of the request method. this also now means that the stream property on the request class is always available instead of just when the parsing fails.']\n",
      "['Release Notes â€” Featuretools 0.24.0 documentation', 7, 5, 'replace pd.timedelta time units that were deprecated ']\n",
      "['Changelog â€” gevent 21.1.3.dev0 documentation', 1, 0, ' - ']\n",
      "['Changelog â€” marshmallow 3.12.1 documentation', 12, 2, 'remove make_object. use a post_load method instead .']\n",
      "['Release History - Stanza', 0, 0, ' - ']\n",
      "['Change log â€” Docker SDK for Python 5.0.0 documentation', 6, 2, 'create_host_config, create_ipam_pool and create_ipam_config have been removed from docker.utils. they have been replaced by the following classes in docker.types: hostconfig, ipampool and ipamconfig.']\n",
      "['Upgrade Guide â€” CuPy 9.0.0 documentation', 3, 1, 'for performance reasons, cupy.count_nonzero has been changed to return zero-dimensional ndarray instead of int when axis=none. see the discussion in #154 for more details.']\n",
      "['Changelog â€” Jedi 0.18.0 documentation', 1, 0, ' - ']\n",
      "['Asyncpg Changelog - pyup.io', 2, 1, ' * add support for \"tuple\" exchange format for codec overrides.']\n",
      "['Changelog (Version History) â€” Telethon 1.21.1 documentation', 6, 4, 'other internal changes include a somewhat more readable .to_bytes function and pre-computing the flag instead using bit shifting. the tlobject.constructor_id has been renamed to tlobject.constructor_id, and .subclass_of_id is also uppercase now.']\n",
      "['Changelog â€” librosa 0.8.0 documentation', 14, 1, 'spectrogram frames are now centered, rather than left-aligned. this removes the need for window correction in librosa.frames_to_time']\n",
      "['Release History â€” virtualenv 20.4.6.dev2+g7bfd444 documentation', 0, 0, ' - ']\n",
      "['Release history â€” Trio 0.18.0+dev documentation', 28, 2, 'trio.catch_signals has been deprecated in favor of open_signal_receiver. the main differences are: it takes *-args now to specify the list of signals instead of catch_signals), and, the async iterator now yields individual signals, instead of batches ']\n",
      "['Changelog - isort', 7, 3, 'potentially interface breaking: - the -r option for removing imports has been renamed -rm to avoid accidental deletions and confusion with the -rc recursive option. - __init__.py has been removed from the default ignore list. the default ignore list is now empty - with all items needing to be explicitly ignored. - isort will now by default ignore .tox / venv folders in an effort to be \"safe\". you can disable this behaviour by setting the \"--unsafe\" flag, this is separate from any skip or not skip rules you may have in place. - isort now allows for files missing closing newlines in whitespace check - distutils support has been removed to simplify setup.py']\n",
      "['Release Notes â€” MechanicalSoup 1.0.0 documentation', 3, 0, ' - ']\n",
      "['Release Notes - mlxtend', 8, 4, 'the stackingclassifier has a new parameter average_probas that is set to true by default to maintain the current behavior. a deprecation warning was added though, and it will default to false in future releases ; average_probas=false will result in stacking of the level-1 predicted probabilities rather than averaging these.']\n",
      "['Version history â€” APScheduler 3.7.0 documentation', 3, 1, 'changed asyncioscheduler to obtain the event loop in start instead of __init__, to prevent situations where the scheduler won t run because it s using a different event loop than then one currently running']\n",
      "['Changelog â€” websockets 9.0 documentation', 5, 2, '[\"changed the origins argument to represent the lack of an origin with none rather than \\'\\'.\"]']\n",
      "['Changelog - LSP Mode - LSP support for Emacs', 1, 1, 'changed flymake to report the errors immediately after they arrive instead of waiting flymake to call lsp-mode.']\n",
      "[\"What's New\", 7, 5, ' changed the behaviour of clock.tick to use sdl_delay instead of a busy']\n",
      "['Release Notes :: NVIDIA Deep Learning DALI Documentation', 17, 6, 'the api for the tensorflow plugin changed to allow specifying the whole shape of the tensor instead of n, h, and w separately; which enables handling both nchw and nhwc outputs.']\n",
      "['Changelog â€” Dramatiq 1.10.0 documentation', 1, 0, ' - ']\n",
      "['Cerberus Changelog â€” Cerberus is a lightweight and extensible data validation library for Python', 7, 3, 'change allowed rule to use containers instead of lists ']\n",
      "['Changelog â€” Authlib 1.0.0.dev documentation', 2, 0, ' - ']\n",
      "['Changelog â€” pygal 2.0.0 documentation', 4, 4, 'mode option has been renamed to a less generic name: box_mode']\n",
      "['Changelog â€” ELI5 0.11.0 documentation', 1, 0, ' - ']\n",
      "['Changelog â€” LIEF Documentation', 0, 0, ' - ']\n",
      "['Thinc Changelog - pyup.io', 1, 0, ' - ']\n",
      "['pyserial/CHANGES.rst at master Â· pyserial/pyserial Â· GitHub', 3, 0, ' - ']\n",
      "['Pychromecast Changelog - pyup.io', 3, 3, ' - **breaking change** remove blocking option from chromecast emontnemery']\n",
      "['Changelog â€” Urwid 2.1.2', 3, 1, 'removed util.register_align_mode and util.register_wrap_mode. their functionality has been replaced by the new layout classes.']\n",
      "['Change history â€” Kombu 5.0.2 documentation', 22, 15, 'connection: there s now a new method connection.supports_exchange_type that can be used to check if the current transport supports a specific exchange type.']\n",
      "['Changelog â€” django-import-export 2.5.1.dev0 documentation', 3, 1, 'try to use ordereddict instead of sorteddict, which is deprecated in django 1.7 ']\n",
      "['Release Notes â€” Catalyst 0.5.21 documentation', 5, 5, 'raising an error for order amounts smaller than exchange lots']\n",
      "['viewflow/CHANGELOG.rst at master Â· viewflow/viewflow Â· GitHub', 1, 1, 'all conditions in if, switch and other nodes receives now a node activation instance instead of process. so you can gen an access to the current task via activation.task variable.']\n",
      "['News â€” pyquery 1.3.x documentation', 0, 0, ' - ']\n",
      "['furl v2.0.0 release notes (2018-10-16) | LibHunt', 0, 0, ' - ']\n",
      "['Whatâ€™s New â€” xlwings dev documentation', 3, 1, ': vba settings: udf_path has been replaced with udf_modules. the default behaviour doesn t change though .']\n",
      "['instagram_private_api/CHANGELOG.md at master Â· ping/instagram_private_api Â· GitHub', 2, 1, 'client.standard_ratios and client.reel_ratios is deprecated and replaced with mediaratios.standard and mediaratios.reel respectively.']\n",
      "['Changelog â€” aeneas 1.7.3 documentation', 2, 1, 'updated install.md to brew install from daniel bair s tap instead of official brew repo since they removed the formula for aeneas ']\n",
      "['orjson/CHANGELOG.md at master Â· ijl/orjson Â· GitHub', 0, 0, ' - ']\n",
      "['pex/CHANGES.rst at main Â· pantsbuild/pex Â· GitHub', 8, 4, 'this ordinarily should not be a problem but the zipimporter caches metadata by filename instead of stat/sha, so if the underlying contents changed a runtime error would be thrown due to seemingly corrupt zip file offsets. rb #684']\n",
      "['PyFunctional/CHANGELOG.md at master Â· EntilZha/PyFunctional Â· GitHub', 1, 1, 'added data interchange tutorial with pandas (link']\n",
      "['javacpp-presets/CHANGELOG.md at master Â· bytedeco/javacpp-presets Â· GitHub', 4, 1, 'remove unneeded @opaque types from gsl and replace them with their definitions whose names end with \"_struct\"']\n",
      "['PyLaTeX/changelog.rst at master Â· JelteF/PyLaTeX Â· GitHub', 2, 1, 'for better readability let ~.escape_latex change a newline to \\\\\\\\\\\\\\\\%\\\\\\\\n instead of simply \\\\\\\\\\\\\\\\.']\n",
      "['essentia/Changelog at master Â· MTG/essentia Â· GitHub', 0, 0, ' - ']\n",
      "['Changelog â€” Apache Libcloud 3.3.2-dev documentation', 28, 16, 'replace old enum style provider constants and replace them with a string version. this change allows users to dynamically register new drivers using a new set_driver method. ']\n",
      "['scrapely/NEWS at master Â· scrapy/scrapely Â· GitHub', 1, 1, '- replaced deprecated functions']\n",
      "['filterpy/changelog.txt at master Â· rlabbe/filterpy Â· GitHub', 2, 0, ' - ']\n",
      "['pgmpy/CHANGELOG.md at dev Â· pgmpy/pgmpy Â· GitHub', 0, 0, ' - ']\n",
      "['Release notes Â· andrewssobral/bgslibrary Wiki Â· GitHub', 0, 0, ' - ']\n",
      "['stumpy/CHANGELOG.md at main Â· TDAmeritrade/stumpy Â· GitHub', 1, 1, 'removed all aamp references as normalize=false should be used instead']\n",
      "['Voluptuous Changelog - pyup.io', 0, 0, ' - ']\n",
      "['Changelog â€” Tenacity documentation', 0, 0, ' - ']\n",
      "['python-miio/CHANGELOG.md at master Â· rytilahti/python-miio Â· GitHub', 5, 2, 'this release adds support for several new devices, and contains improvements and fixes on several existing integrations. instead of summarizing all changes here, this library seeks to move completely automated changelogs based on the pull request tags to facilitate faster release cycles. until that happens, the full list of changes is listed below as usual.']\n",
      "['NumCpp: Release Notes', 0, 0, ' - ']\n",
      "['Rauth Changelog â€” rauth 0.7.2 documentation', 0, 0, ' - ']\n",
      "['abseil-py/CHANGELOG.md at master Â· abseil/abseil-py Â· GitHub', 0, 0, ' - ']\n",
      "['shodan-python/CHANGELOG.md at master Â· achillean/shodan-python Â· GitHub', 1, 0, ' - ']\n",
      "['Changelog â€” dateutil 2.8.1 documentation', 8, 3, 'changed many aspects of dealing with the zone info file. instead of a cache, all the zones are loaded to memory, but symbolic links are loaded only once, so not much memory is used.']\n",
      "['Changelog â€” PyCryptodome 3.9.9 documentation', 3, 0, ' - ']\n",
      "['aiyprojects-raspbian/CHANGES.md at aiyprojects Â· google/aiyprojects-raspbian Â· GitHub', 0, 0, ' - ']\n",
      "['Releases Â· patrikhuber/eos Â· GitHub', 0, 0, ' - ']\n",
      "['Changelog â€” AmpliGraph 1.3.0 documentation', 0, 0, ' - ']\n",
      "['4. Release Notes â€” Buildbot 3.1.1 documentation', 14, 2, 'removed support for deprecated nextworker function signature that accepts two parameters instead of three.']\n",
      "['Release Downloads | volatilityfoundation', 0, 0, ' - ']\n",
      "['CHANGELOG â€” rqalpha 4.3.x æ–‡æ¡£', 0, 0, ' - ']\n",
      "['Release Notes â€” nameko 2.12.0 documentation', 3, 0, ' - ']\n"
     ]
    }
   ],
   "source": [
    "#helper code\n",
    "# generating table for appendix\n",
    "import time\n",
    "if(help_eval==1):\n",
    "    with open('deprecation_information_post_processed_1.csv', encoding=\"utf-8\", newline='') as f:\n",
    "        reader = csv.reader(f)\n",
    "        dep_i = list(reader)\n",
    "    with open('replacement_information_post_processed_1.csv', encoding=\"utf-8\", newline='') as f:\n",
    "        reader = csv.reader(f)\n",
    "        rep_i = list(reader)\n",
    "    file1 = open('results_for_appendix.csv', 'w', encoding=\"utf-8\", newline ='')\n",
    "    write1 = csv.writer(file1)\n",
    "    for i in range(80):\n",
    "        release_notes_title = dep_i[i][0]\n",
    "#         release_notes_url_link = rn_url_list[i]\n",
    "        deprecation_messages_count = len(dep_i[i]) - 1 # '-1' is for title\n",
    "        replacement_messages_count = len(rep_i[i]) - 1\n",
    "        try:\n",
    "            sample_replacement_messages = rep_i[i][1]\n",
    "            sample_replacement_messages = sample_replacement_messages.replace(\"['\",\"\")\n",
    "            sample_replacement_messages = sample_replacement_messages.replace(\"']\",\"\")\n",
    "        except:\n",
    "            sample_replacement_messages = \" - \"\n",
    "        l = [release_notes_title,deprecation_messages_count,replacement_messages_count,sample_replacement_messages]\n",
    "        print(l)\n",
    "        write1.writerow(l)\n",
    "        "
   ]
  },
  {
   "cell_type": "code",
   "execution_count": 69,
   "metadata": {},
   "outputs": [
    {
     "name": "stdout",
     "output_type": "stream",
     "text": [
      "https://nameko.readthedocs.io/en/stable/release_notes.html\n"
     ]
    }
   ],
   "source": [
    "if(help_eval == 1):\n",
    "    rn_url_list = []\n",
    "    for url in url_to_title_map.keys():\n",
    "        rn_url_list.append(url)\n",
    "    print(rn_url_list[len(rn_url_list)-1])"
   ]
  }
 ],
 "metadata": {
  "kernelspec": {
   "display_name": "Python 3",
   "language": "python",
   "name": "python3"
  },
  "language_info": {
   "codemirror_mode": {
    "name": "ipython",
    "version": 3
   },
   "file_extension": ".py",
   "mimetype": "text/x-python",
   "name": "python",
   "nbconvert_exporter": "python",
   "pygments_lexer": "ipython3",
   "version": "3.8.3"
  }
 },
 "nbformat": 4,
 "nbformat_minor": 4
}
