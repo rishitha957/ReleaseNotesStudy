{
 "cells": [
  {
   "cell_type": "code",
   "execution_count": 2,
   "metadata": {},
   "outputs": [],
   "source": [
    "import csv\n",
    "import numpy as np\n",
    "import pandas as pd"
   ]
  },
  {
   "cell_type": "code",
   "execution_count": 16,
   "metadata": {},
   "outputs": [
    {
     "name": "stderr",
     "output_type": "stream",
     "text": [
      "[nltk_data] Downloading package wordnet to\n",
      "[nltk_data]     C:\\Users\\Dell\\AppData\\Roaming\\nltk_data...\n",
      "[nltk_data]   Unzipping corpora\\wordnet.zip.\n"
     ]
    },
    {
     "data": {
      "text/plain": [
       "True"
      ]
     },
     "execution_count": 16,
     "metadata": {},
     "output_type": "execute_result"
    }
   ],
   "source": [
    "#import nltk\n",
    "#nltk.download('wordnet')"
   ]
  },
  {
   "cell_type": "code",
   "execution_count": 36,
   "metadata": {},
   "outputs": [],
   "source": [
    "from selenium import webdriver"
   ]
  },
  {
   "cell_type": "code",
   "execution_count": 1,
   "metadata": {},
   "outputs": [],
   "source": [
    "import nltk\n",
    "from nltk.corpus import wordnet"
   ]
  },
  {
   "cell_type": "code",
   "execution_count": 3,
   "metadata": {},
   "outputs": [],
   "source": [
    "from word_forms.word_forms import get_word_forms"
   ]
  },
  {
   "cell_type": "code",
   "execution_count": 47,
   "metadata": {},
   "outputs": [],
   "source": [
    "with open('deprecation_information2.csv', newline='') as f:\n",
    "    reader = csv.reader(f)\n",
    "    data_i = list(reader)"
   ]
  },
  {
   "cell_type": "code",
   "execution_count": 5,
   "metadata": {},
   "outputs": [
    {
     "name": "stdout",
     "output_type": "stream",
     "text": [
      "227\n",
      "226\n"
     ]
    }
   ],
   "source": [
    "print(len(data[0]))\n",
    "for i in range(len(data)):\n",
    "    data[i] = list(set(data[i]))\n",
    "print(len(data[0]))"
   ]
  },
  {
   "cell_type": "code",
   "execution_count": 6,
   "metadata": {},
   "outputs": [],
   "source": [
    "def jaccard_similarity(list1, list2):\n",
    "    intersection = len(list(set(list1).intersection(list2)))\n",
    "    union = (len(list1) + len(list2)) - intersection\n",
    "    return float(intersection) / union"
   ]
  },
  {
   "cell_type": "code",
   "execution_count": 60,
   "metadata": {},
   "outputs": [],
   "source": [
    "compare_string = ['deprecate','removed','changed']"
   ]
  },
  {
   "cell_type": "code",
   "execution_count": 61,
   "metadata": {},
   "outputs": [],
   "source": [
    "replace_string = ['replace','instead','in favour of']"
   ]
  },
  {
   "cell_type": "code",
   "execution_count": 62,
   "metadata": {},
   "outputs": [],
   "source": [
    "def get_synonyms(word):\n",
    "    synonyms = []\n",
    "    for syn in wordnet.synsets(word):\n",
    "        for lm in syn.lemmas():\n",
    "            synonyms.append(lm.name())#adding into synonyms\n",
    "    return list(set(synonyms))"
   ]
  },
  {
   "cell_type": "code",
   "execution_count": 63,
   "metadata": {},
   "outputs": [],
   "source": [
    "def get_all_word_forms(word):\n",
    "    dict1 = get_word_forms(word)\n",
    "    word_forms = []\n",
    "    for d in dict1.values():\n",
    "        for a in d:\n",
    "            word_forms += [a]\n",
    "    return list(set(word_forms))"
   ]
  },
  {
   "cell_type": "code",
   "execution_count": 64,
   "metadata": {},
   "outputs": [
    {
     "name": "stdout",
     "output_type": "stream",
     "text": [
      "['withdraw', 'removed', 'vilipend', 'get_rid_of', 'changed', 'shift', 'deprecative', 'hit', 'polish_off', 'changing', 'removers', 'removals', 'switch', 'alter', 'deprecatory', 'deprecating', 'transfer', 'commute', 'changes', 'deprecations', 'remotions', 'take_out', 'removal', 'absent', 'slay', 'distant', 'deprecates', 'bump_off', 'take', 'remover', 'remove', 'deprecated', 'convert', 'deepen', 'dispatch', 'off', 'move_out', 'changers', 'change', 'take_away', 'changer', 'remotion', 'remote', 'deprecation', 'deprecatively', 'vary', 'interchange', 'removes', 'exchange', 'deprecate', 'modify', 'murder', 'removing', 'depreciate']\n"
     ]
    }
   ],
   "source": [
    "cmp_str = compare_string\n",
    "for c_str in compare_string:\n",
    "    cmp_str = cmp_str + get_synonyms(c_str)\n",
    "    cmp_str = cmp_str + get_all_word_forms(c_str)\n",
    "cmp_str = list(set(cmp_str))\n",
    "print(cmp_str)"
   ]
  },
  {
   "cell_type": "code",
   "execution_count": 73,
   "metadata": {},
   "outputs": [],
   "source": [
    "deprecate_string = ['deprecate']"
   ]
  },
  {
   "cell_type": "code",
   "execution_count": 74,
   "metadata": {},
   "outputs": [
    {
     "name": "stdout",
     "output_type": "stream",
     "text": [
      "['vilipend', 'deprecatory', 'deprecation', 'deprecating', 'deprecated', 'deprecatively', 'deprecates', 'deprecations', 'deprecative', 'deprecate', 'depreciate']\n"
     ]
    }
   ],
   "source": [
    "dep_str = deprecate_string\n",
    "for c_str in deprecate_string:\n",
    "    dep_str = dep_str + get_synonyms(c_str)\n",
    "    dep_str = dep_str + get_all_word_forms(c_str)\n",
    "dep_str = list(set(dep_str))\n",
    "print(dep_str) "
   ]
  },
  {
   "cell_type": "code",
   "execution_count": 65,
   "metadata": {},
   "outputs": [
    {
     "name": "stdout",
     "output_type": "stream",
     "text": [
      "['or_else', 'replaces', 'replace', 'in favour of', 'replacements', 'replaced', 'supersede', 'put_back', 'substitute', 'supercede', 'supplant', 'replacement', 'rather', 'supervene_upon', 'replacings', 'interchange', 'instead', 'exchange', 'alternatively', 'replacing']\n"
     ]
    }
   ],
   "source": [
    "rpl_str = replace_string\n",
    "for c_str in replace_string:\n",
    "    rpl_str = rpl_str + get_synonyms(c_str)\n",
    "    rpl_str = rpl_str + get_all_word_forms(c_str)\n",
    "rpl_str = list(set(rpl_str))\n",
    "print(rpl_str)"
   ]
  },
  {
   "cell_type": "code",
   "execution_count": 69,
   "metadata": {},
   "outputs": [],
   "source": [
    "file_name = \"python_libraries - python_libraries.csv\"\n",
    "with open(file_name,newline=\"\") as f:\n",
    "    reader = csv.reader(f)\n",
    "    data = list(reader)\n",
    "url_to_title_map = {}\n",
    "driver = webdriver.Firefox()\n",
    "for i in range(len(data)):\n",
    "    if(data[i][1]=='-' or data[i][1]==''): \n",
    "        continue\n",
    "    rn_url = data[i][1]\n",
    "    driver.get(rn_url)\n",
    "    url_to_title_map[rn_url] = driver.title"
   ]
  },
  {
   "cell_type": "code",
   "execution_count": 70,
   "metadata": {},
   "outputs": [
    {
     "data": {
      "text/plain": [
       "{'https://docs.python-requests.org/en/latest/community/updates/#release-history': 'Community Updates — Requests 2.25.1 documentation',\n",
       " 'https://pandas.pydata.org/docs/whatsnew/index.html': 'Release notes — pandas 1.2.4 documentation',\n",
       " 'https://www.tornadoweb.org/en/stable/releases.html': 'Release notes — Tornado 6.1 documentation',\n",
       " 'https://pypi.org/project/fire/#history': 'fire · PyPI',\n",
       " 'https://pypi.org/project/ccxt/1.42.61/#history': 'fire · PyPI',\n",
       " 'https://beets.readthedocs.io/en/stable/changelog.html': 'Changelog — beets 1.4.9 documentation',\n",
       " 'http://docs.allennlp.org/main/CHANGELOG/': 'CHANGELOG - AllenNLP v2.4.0',\n",
       " 'https://docs.nvidia.com/deeplearning/frameworks/theano-release-notes/index.html': 'Theano Release Notes :: NVIDIA Deep Learning Frameworks Documentation',\n",
       " 'https://pillow.readthedocs.io/en/stable/releasenotes/index.html': 'Release Notes — Pillow (PIL Fork) 8.2.0 documentation',\n",
       " 'https://arrow.apache.org/release/': 'Releases | Apache Arrow',\n",
       " 'https://albumentations.ai/docs/release_notes/': 'Release notes - Albumentations Documentation',\n",
       " 'http://www.paramiko.org/changelog.html': 'Changelog — Paramiko documentation',\n",
       " 'https://altair-viz.github.io/releases/changes.html': 'Altair Change Log — Altair 4.1.0 documentation',\n",
       " 'https://docs.scrapy.org/en/latest/news.html': 'Release notes — Scrapy 2.5.0 documentation',\n",
       " 'https://werkzeug.palletsprojects.com/en/latest/changes/': 'Changes — Werkzeug Documentation (2.1.x)',\n",
       " 'https://featuretools.alteryx.com/en/stable/release_notes.html?highlight=release': 'Release Notes — Featuretools 0.24.0 documentation',\n",
       " 'http://www.gevent.org/changelog.html#id1': 'Changelog — gevent 21.1.3.dev0 documentation',\n",
       " 'https://marshmallow.readthedocs.io/en/stable/changelog.html?highlight=releases': 'Changelog — marshmallow 3.12.1 documentation',\n",
       " 'https://stanfordnlp.github.io/stanza/release_history.html': 'Release History - Stanza',\n",
       " 'https://docker-py.readthedocs.io/en/stable/change-log.html': 'Change log — Docker SDK for Python 5.0.0 documentation',\n",
       " 'https://docs.cupy.dev/en/stable/upgrade.html?highlight=releases#api-changes': 'Upgrade Guide — CuPy 9.0.0 documentation',\n",
       " 'https://jedi.readthedocs.io/en/latest/docs/changelog.html': 'Changelog — Jedi 0.18.0 documentation',\n",
       " 'https://pyup.io/changelogs/asyncpg/': 'Asyncpg Changelog - pyup.io',\n",
       " 'https://docs.telethon.dev/en/latest/misc/changelog.html?highlight=releases#deprecation': 'Changelog (Version History) — Telethon 1.21.1 documentation',\n",
       " 'https://librosa.org/doc/latest/changelog.html': 'Changelog — librosa 0.8.0 documentation',\n",
       " 'https://virtualenv.pypa.io/en/latest/changelog.html': 'Release History — virtualenv 20.4.6.dev2+g7bfd444 documentation',\n",
       " 'https://trio.readthedocs.io/en/latest/history.html': 'Release history — Trio 0.18.0+dev documentation',\n",
       " 'https://pycqa.github.io/isort/CHANGELOG/': 'Changelog - isort',\n",
       " 'https://mechanicalsoup.readthedocs.io/en/stable/ChangeLog.html': 'Release Notes — MechanicalSoup 1.0.0 documentation',\n",
       " 'https://github.com/kubernetes-client/python/blob/release-17.0/CHANGELOG.md': 'python/CHANGELOG.md at release-17.0 · kubernetes-client/python · GitHub',\n",
       " 'https://pyup.io/changelogs/pytorch-ignite/': 'Pytorch-ignite Changelog - pyup.io',\n",
       " 'http://rasbt.github.io/mlxtend/CHANGELOG/': 'Release Notes - mlxtend',\n",
       " 'https://apscheduler.readthedocs.io/en/latest/versionhistory.html': 'Version history — APScheduler 3.7.0 documentation',\n",
       " 'https://geopy.readthedocs.io/en/stable/#changelog': 'Welcome to GeoPy’s documentation! — GeoPy 2.1.0 documentation',\n",
       " 'https://websockets.readthedocs.io/en/stable/changelog.html': 'Changelog — websockets 9.0 documentation',\n",
       " 'https://github.com/gbeced/pyalgotrade/blob/master/CHANGELOG': 'pyalgotrade/CHANGELOG at master · gbeced/pyalgotrade · GitHub',\n",
       " 'https://emacs-lsp.github.io/lsp-mode/page/CHANGELOG/': 'Changelog - LSP Mode - LSP support for Emacs',\n",
       " 'https://www.pygame.org/whatsnew.shtml': \"What's New\",\n",
       " 'https://docs.nvidia.com/deeplearning/dali/release-notes/index.html': 'Release Notes :: NVIDIA Deep Learning DALI Documentation',\n",
       " 'https://dramatiq.io/changelog.html?highlight=releases': 'Changelog — Dramatiq 1.10.0 documentation',\n",
       " 'https://github.com/pksunkara/alpaca/blob/b86d46b3bf2c09826bd53e33399ac7055147dcc0/CHANGELOG.md': 'alpaca/CHANGELOG.md at b86d46b3bf2c09826bd53e33399ac7055147dcc0 · pksunkara/alpaca · GitHub',\n",
       " 'https://docs.python-cerberus.org/en/stable/changelog.html': 'Cerberus Changelog — Cerberus is a lightweight and extensible data validation library for Python',\n",
       " 'https://docs.authlib.org/en/latest/changelog.html': 'Changelog — Authlib 1.0.0.dev documentation',\n",
       " 'http://www.pygal.org/en/stable/changelog.html': 'Changelog — pygal 2.0.0 documentation',\n",
       " 'https://eli5.readthedocs.io/en/latest/changes.html': 'Changelog — ELI5 0.11.0 documentation',\n",
       " 'https://lief.quarkslab.com/doc/stable/changelog.html#v0.11.0': 'Changelog — LIEF Documentation',\n",
       " 'https://pyup.io/changelogs/thinc/': 'Thinc Changelog - pyup.io',\n",
       " 'https://github.com/pyserial/pyserial/blob/master/CHANGES.rst': 'pyserial/CHANGES.rst at master · pyserial/pyserial · GitHub',\n",
       " 'https://pyup.io/changelogs/pychromecast/': 'Pychromecast Changelog - pyup.io',\n",
       " 'http://urwid.org/changelog.html': 'Changelog — Urwid 2.1.2',\n",
       " 'https://docs.celeryproject.org/projects/kombu/en/stable/changelog.html?highlight=releases': 'Change history — Kombu 5.0.2 documentation',\n",
       " 'https://django-import-export.readthedocs.io/en/latest/changelog.html': 'Changelog — django-import-export 2.5.1.dev0 documentation',\n",
       " 'https://www.enigma.co/catalyst/releases.html': 'Release Notes — Catalyst 0.5.21 documentation',\n",
       " 'https://github.com/viewflow/viewflow/blob/master/CHANGELOG.rst': 'viewflow/CHANGELOG.rst at master · viewflow/viewflow · GitHub',\n",
       " 'https://pyquery.readthedocs.io/en/latest/changes.html?highlight=releases': 'News — pyquery 1.3.x documentation',\n",
       " 'https://python.libhunt.com/furl-changelog/2.0.0': 'furl v2.0.0 release notes (2018-10-16) | LibHunt',\n",
       " 'https://docs.xlwings.org/en/stable/whatsnew.html': 'What’s New — xlwings dev documentation',\n",
       " 'https://github.com/ping/instagram_private_api/blob/master/CHANGELOG.md': 'instagram_private_api/CHANGELOG.md at master · ping/instagram_private_api · GitHub',\n",
       " 'https://www.readbeyond.it/aeneas/docs/changelog.html': 'Changelog — aeneas 1.7.3 documentation',\n",
       " 'https://github.com/ijl/orjson/blob/master/CHANGELOG.md': 'orjson/CHANGELOG.md at master · ijl/orjson · GitHub',\n",
       " 'https://github.com/pantsbuild/pex/blob/main/CHANGES.rst': 'pex/CHANGES.rst at main · pantsbuild/pex · GitHub',\n",
       " 'https://github.com/EntilZha/PyFunctional/blob/master/CHANGELOG.md': 'PyFunctional/CHANGELOG.md at master · EntilZha/PyFunctional · GitHub',\n",
       " 'https://github.com/bytedeco/javacpp-presets/blob/master/CHANGELOG.md': 'javacpp-presets/CHANGELOG.md at master · bytedeco/javacpp-presets · GitHub',\n",
       " 'https://github.com/JelteF/PyLaTeX/blob/master/docs/source/changelog.rst': 'PyLaTeX/changelog.rst at master · JelteF/PyLaTeX · GitHub',\n",
       " 'https://github.com/MTG/essentia/blob/master/Changelog': 'essentia/Changelog at master · MTG/essentia · GitHub',\n",
       " 'https://libcloud.readthedocs.io/en/latest/changelog.html': 'Changelog — Apache Libcloud 3.3.2-dev documentation',\n",
       " 'https://github.com/scrapy/scrapely/blob/master/NEWS': 'scrapely/NEWS at master · scrapy/scrapely · GitHub',\n",
       " 'https://github.com/rlabbe/filterpy/blob/master/filterpy/changelog.txt': 'filterpy/changelog.txt at master · rlabbe/filterpy · GitHub',\n",
       " 'https://github.com/pgmpy/pgmpy/blob/dev/CHANGELOG.md': 'pgmpy/CHANGELOG.md at dev · pgmpy/pgmpy · GitHub',\n",
       " 'https://github.com/andrewssobral/bgslibrary/wiki/Release-notes': 'Release notes · andrewssobral/bgslibrary Wiki · GitHub',\n",
       " 'https://github.com/TDAmeritrade/stumpy/blob/main/CHANGELOG.md': 'stumpy/CHANGELOG.md at main · TDAmeritrade/stumpy · GitHub',\n",
       " 'https://pyup.io/changelogs/voluptuous/': 'Voluptuous Changelog - pyup.io',\n",
       " 'https://tenacity.readthedocs.io/en/latest/changelog.html': 'Changelog — Tenacity documentation',\n",
       " 'https://github.com/rytilahti/python-miio/blob/master/CHANGELOG.md': 'python-miio/CHANGELOG.md at master · rytilahti/python-miio · GitHub',\n",
       " 'https://docs.pyrogram.org/releases/': 'Release Notes — Pyrogram Documentation',\n",
       " 'https://dpilger26.github.io/NumCpp/doxygen/html/md__c_1__github__num_cpp_docs_markdown__release_notes.html': 'NumCpp: Release Notes',\n",
       " 'https://rauth.readthedocs.io/en/latest/changelog/#': 'Rauth Changelog — rauth 0.7.2 documentation',\n",
       " 'https://github.com/abseil/abseil-py/blob/master/absl/CHANGELOG.md': 'abseil-py/CHANGELOG.md at master · abseil/abseil-py · GitHub',\n",
       " 'https://github.com/achillean/shodan-python/blob/master/CHANGELOG.md': 'shodan-python/CHANGELOG.md at master · achillean/shodan-python · GitHub',\n",
       " 'https://dateutil.readthedocs.io/en/stable/changelog.html': 'Changelog — dateutil 2.8.1 documentation',\n",
       " 'https://pycryptodome.readthedocs.io/en/latest/src/changelog.html': 'Changelog — PyCryptodome 3.9.9 documentation',\n",
       " 'https://github.com/google/aiyprojects-raspbian/blob/aiyprojects/CHANGES.md': 'aiyprojects-raspbian/CHANGES.md at aiyprojects · google/aiyprojects-raspbian · GitHub',\n",
       " 'https://github.com/patrikhuber/eos/releases': 'Releases · patrikhuber/eos · GitHub',\n",
       " 'https://rqalpha.readthedocs.io/zh_CN/latest/history.html': 'CHANGELOG — rqalpha 4.3.x 文档',\n",
       " 'https://nameko.readthedocs.io/en/stable/release_notes.html': 'Release Notes — nameko 2.12.0 documentation'}"
      ]
     },
     "execution_count": 70,
     "metadata": {},
     "output_type": "execute_result"
    }
   ],
   "source": [
    "url_to_title_map"
   ]
  },
  {
   "cell_type": "code",
   "execution_count": 75,
   "metadata": {},
   "outputs": [],
   "source": [
    "file1 = open('deprecation_information_post_processed_1.csv', 'w', encoding=\"utf-8\", newline ='')\n",
    "write1 = csv.writer(file1)\n",
    "file2 = open('replacement_information_post_processed_1.csv', 'w', encoding=\"utf-8\", newline ='')\n",
    "write2 = csv.writer(file2)"
   ]
  },
  {
   "cell_type": "code",
   "execution_count": 78,
   "metadata": {},
   "outputs": [
    {
     "name": "stdout",
     "output_type": "stream",
     "text": [
      "Community Updates â€” Requests 2.25.1 documentation - 27/227: Replacements - 2/4\n",
      "Release notes â€” pandas 1.2.4 documentation - 648/3883: Replacements - 101/323\n",
      "fire Â· PyPI - 0/23: Replacements - 0/0\n",
      "ccxt Â· PyPI - 0/155: Replacements - 0/0\n",
      "Changelog â€” beets 1.4.9 documentation - 103/561: Replacements - 13/3\n",
      "CHANGELOG - AllenNLP v2.4.0 - 67/279: Replacements - 3/3\n",
      "Theano Release Notes :: NVIDIA Deep Learning Frameworks Documentation - 9/139: Replacements - 0/0\n",
      "Releases | Apache Arrow - 180/2522: Replacements - 5/35\n",
      "Release notes - Albumentations Documentation - 7/36: Replacements - 0/0\n",
      "Changelog â€” Paramiko documentation - 63/387: Replacements - 18/5\n",
      "Altair Change Log â€” Altair 4.1.0 documentation - 6/70: Replacements - 0/0\n",
      "Release notes â€” Scrapy 2.5.0 documentation - 117/589: Replacements - 14/46\n",
      "Changes â€” Werkzeug Documentation (2.1.x) - 49/337: Replacements - 9/17\n",
      "Release Notes â€” Featuretools 0.24.0 documentation - 27/191: Replacements - 4/4\n",
      "Changelog â€” gevent 21.1.3.dev0 documentation - 8/99: Replacements - 0/2\n",
      "Changelog â€” marshmallow 3.12.1 documentation - 38/262: Replacements - 2/10\n",
      "Release History - Stanza - 0/9: Replacements - 0/0\n",
      "Change log â€” Docker SDK for Python 5.0.0 documentation - 30/644: Replacements - 2/5\n",
      "Upgrade Guide â€” CuPy 9.0.0 documentation - 9/53: Replacements - 1/2\n",
      "Changelog â€” Jedi 0.18.0 documentation - 7/67: Replacements - 0/1\n",
      "Asyncpg Changelog - pyup.io - 9/158: Replacements - 1/1\n",
      "Changelog (Version History) â€” Telethon 1.21.1 documentation - 47/673: Replacements - 3/2\n",
      "Changelog â€” librosa 0.8.0 documentation - 26/118: Replacements - 1/13\n",
      "Release History â€” virtualenv 20.4.6.dev2+g7bfd444 documentation - 3/154: Replacements - 0/0\n",
      "Release history â€” Trio 0.18.0+dev documentation - 56/194: Replacements - 2/41\n",
      "Changelog - isort - 17/143: Replacements - 0/5\n",
      "Release Notes â€” MechanicalSoup 1.0.0 documentation - 5/51: Replacements - 0/3\n",
      "Release Notes - mlxtend - 23/243: Replacements - 4/6\n",
      "Version history â€” APScheduler 3.7.0 documentation - 8/107: Replacements - 1/2\n",
      "Changelog â€” websockets 9.0 documentation - 15/133: Replacements - 2/3\n",
      "Changelog - LSP Mode - LSP support for Emacs - 6/78: Replacements - 1/0\n",
      "What's New - 37/356: Replacements - 4/2\n",
      "Release Notes :: NVIDIA Deep Learning DALI Documentation - 83/487: Replacements - 5/39\n",
      "Changelog â€” Dramatiq 1.10.0 documentation - 37/167: Replacements - 0/2\n",
      "Cerberus Changelog â€” Cerberus is a lightweight and extensible data validation library for Python - 15/67: Replacements - 3/5\n",
      "Changelog â€” Authlib 1.0.0.dev documentation - 5/40: Replacements - 0/2\n",
      "Changelog â€” pygal 2.0.0 documentation - 5/52: Replacements - 1/0\n",
      "Changelog â€” ELI5 0.11.0 documentation - 5/72: Replacements - 0/1\n",
      "Changelog â€” LIEF Documentation - 2/94: Replacements - 0/0\n",
      "Thinc Changelog - pyup.io - 6/88: Replacements - 0/1\n",
      "pyserial/CHANGES.rst at master Â· pyserial/pyserial Â· GitHub - 19/162: Replacements - 0/3\n",
      "Pychromecast Changelog - pyup.io - 31/82: Replacements - 2/0\n",
      "Changelog â€” Urwid 2.1.2 - 18/237: Replacements - 1/2\n",
      "Change history â€” Kombu 5.0.2 documentation - 55/545: Replacements - 13/8\n",
      "Changelog â€” django-import-export 2.5.1.dev0 documentation - 10/114: Replacements - 1/3\n",
      "Release Notes â€” Catalyst 0.5.21 documentation - 10/105: Replacements - 5/0\n",
      "viewflow/CHANGELOG.rst at master Â· viewflow/viewflow Â· GitHub - 4/38: Replacements - 1/0\n",
      "News â€” pyquery 1.3.x documentation - 2/37: Replacements - 0/0\n",
      "furl v2.0.0 release notes (2018-10-16) | LibHunt - 0/7: Replacements - 0/0\n",
      "Whatâ€™s New â€” xlwings dev documentation - 24/322: Replacements - 1/2\n",
      "instagram_private_api/CHANGELOG.md at master Â· ping/instagram_private_api Â· GitHub - 2/19: Replacements - 1/2\n",
      "Changelog â€” aeneas 1.7.3 documentation - 16/140: Replacements - 1/1\n",
      "orjson/CHANGELOG.md at master Â· ijl/orjson Â· GitHub - 45/100: Replacements - 0/0\n",
      "pex/CHANGES.rst at main Â· pantsbuild/pex Â· GitHub - 24/166: Replacements - 2/4\n",
      "PyFunctional/CHANGELOG.md at master Â· EntilZha/PyFunctional Â· GitHub - 4/42: Replacements - 1/0\n",
      "javacpp-presets/CHANGELOG.md at master Â· bytedeco/javacpp-presets Â· GitHub - 11/236: Replacements - 1/3\n",
      "PyLaTeX/changelog.rst at master Â· JelteF/PyLaTeX Â· GitHub - 24/109: Replacements - 1/1\n",
      "essentia/Changelog at master Â· MTG/essentia Â· GitHub - 1/43: Replacements - 0/0\n",
      "Changelog â€” Apache Libcloud 3.3.2-dev documentation - 151/761: Replacements - 16/20\n",
      "scrapely/NEWS at master Â· scrapy/scrapely Â· GitHub - 1/9: Replacements - 1/1\n",
      "filterpy/changelog.txt at master Â· rlabbe/filterpy Â· GitHub - 21/145: Replacements - 0/2\n",
      "pgmpy/CHANGELOG.md at dev Â· pgmpy/pgmpy Â· GitHub - 12/40: Replacements - 0/0\n",
      "Release notes Â· andrewssobral/bgslibrary Wiki Â· GitHub - 1/18: Replacements - 0/0\n",
      "stumpy/CHANGELOG.md at main Â· TDAmeritrade/stumpy Â· GitHub - 7/127: Replacements - 1/0\n",
      "Voluptuous Changelog - pyup.io - 4/43: Replacements - 0/0\n",
      "Changelog â€” Tenacity documentation - 0/13: Replacements - 0/0\n",
      "python-miio/CHANGELOG.md at master Â· rytilahti/python-miio Â· GitHub - 19/219: Replacements - 2/3\n",
      "NumCpp: Release Notes - 2/20: Replacements - 0/0\n",
      "Rauth Changelog â€” rauth 0.7.2 documentation - 29/63: Replacements - 0/0\n",
      "abseil-py/CHANGELOG.md at master Â· abseil/abseil-py Â· GitHub - 10/73: Replacements - 0/0\n",
      "shodan-python/CHANGELOG.md at master Â· achillean/shodan-python Â· GitHub - 6/60: Replacements - 0/1\n",
      "Changelog â€” dateutil 2.8.1 documentation - 29/178: Replacements - 3/6\n",
      "Changelog â€” PyCryptodome 3.9.9 documentation - 20/166: Replacements - 0/3\n",
      "aiyprojects-raspbian/CHANGES.md at aiyprojects Â· google/aiyprojects-raspbian Â· GitHub - 3/39: Replacements - 0/0\n",
      "Releases Â· patrikhuber/eos Â· GitHub - 13/65: Replacements - 0/0\n",
      "Changelog â€” AmpliGraph 1.3.0 documentation - 2/49: Replacements - 0/0\n",
      "4. Release Notes â€” Buildbot 3.1.1 documentation - 23/48: Replacements - 2/14\n",
      "Release Downloads | volatilityfoundation - 3/130: Replacements - 0/0\n",
      "CHANGELOG â€” rqalpha 4.3.x æ–‡æ¡£ - 70/7421: Replacements - 0/0\n",
      "Release Notes â€” nameko 2.12.0 documentation - 1020/5341: Replacements - 0/180\n"
     ]
    }
   ],
   "source": [
    "dl = []\n",
    "rl = []\n",
    "for i in range(len(data_i)):\n",
    "#     print(len(data[i]))\n",
    "    c=0\n",
    "    r=0\n",
    "    d=0\n",
    "    d_list = []\n",
    "    d_list.append(data_i[i][0])\n",
    "    r_list = []\n",
    "    r_list.append(data_i[i][0])\n",
    "    for j in range(len(data_i[i])):\n",
    "#         print(data[i][j])\n",
    "        s_score = jaccard_similarity(data_i[i][j].split(\" \"),cmp_str)\n",
    "        if(s_score!=0.0):\n",
    "            c+=1\n",
    "#             write1.writerow([str(data_i[i][j])])\n",
    "            r_score = jaccard_similarity(data_i[i][j].split(\" \"),rpl_str)\n",
    "            if(r_score!=0.0):\n",
    "                r+=1\n",
    "                r_list.append([str(data_i[i][j])])\n",
    "            d_score = jaccard_similarity(data_i[i][j].split(\" \"),dep_str)\n",
    "            if(d_score!=0.0):\n",
    "                d+=1\n",
    "                d_list.append(data_i[i][j])\n",
    "#             print(data[i][j],r_score)\n",
    "    write1.writerow(d_list)\n",
    "    write2.writerow(r_list)\n",
    "    rl.append(int(r))\n",
    "    dl.append(int(c))\n",
    "    print(data_i[i][0]+\" - \"+str(c)+\"/\"+str(len(data_i[i]))+\": Replacements - \"+str(r)+\"/\"+str(d))"
   ]
  },
  {
   "cell_type": "code",
   "execution_count": 37,
   "metadata": {},
   "outputs": [],
   "source": [
    "#results\n",
    "\n",
    "file_name = \"python_libraries - python_libraries.csv\"\n",
    "with open(file_name,newline=\"\") as f:\n",
    "    reader = csv.reader(f)\n",
    "    data = list(reader)\n",
    "driver = webdriver.Firefox()\n",
    "r =[]\n",
    "for i in range(len(data)):\n",
    "    if(data[i][1]=='-' or data[i][1]==''): \n",
    "        continue\n",
    "    git_url = data[i][0]\n",
    "    driver.get(git_url)\n",
    "#     stars = driver.find_element_by_xpath('//*[contains(concat( \" \", @class, \" \" ), concat( \" \", \"js-social-count\", \" \" ))]').text\n",
    "#     forks = driver.find_element_by_xpath('//form+//*[contains(concat( \" \", @class, \" \" ), concat( \" \", \"social-count\", \" \" ))]').text\n",
    "    try:\n",
    "        releases = driver.find_element_by_xpath('//*+[contains(concat( \" \", @class, \" \" ), concat( \" \", \"hide-md\", \" \" ))]//*[contains(concat( \" \", @class, \" \" ), concat( \" \", \"BorderGrid-row\", \" \" ))]//*[contains(concat( \" \", @class, \" \" ), concat( \" \", \"Counter\", \" \" ))]').text\n",
    "        r.append(releases)\n",
    "    except:\n",
    "        releases = driver.find_element_by_xpath('//*[contains(concat( \" \", @class, \" \" ), concat( \" \", \"ml-3\", \" \" )) and contains(concat( \" \", @class, \" \" ), concat( \" \", \"no-underline\", \" \" ))]').text\n",
    "        r.append(releases)"
   ]
  },
  {
   "cell_type": "code",
   "execution_count": 55,
   "metadata": {},
   "outputs": [],
   "source": [
    "rn_urls = []\n",
    "for i in range(len(data)):\n",
    "    if(data[i][1]=='-' or data[i][1]==''): \n",
    "        continue\n",
    "    rn_urls.append(data[i][1])"
   ]
  },
  {
   "cell_type": "code",
   "execution_count": 57,
   "metadata": {},
   "outputs": [
    {
     "name": "stdout",
     "output_type": "stream",
     "text": [
      "['https://docs.python-requests.org/en/latest/community/updates/#release-history', 'https://pandas.pydata.org/docs/whatsnew/index.html', 'https://www.tornadoweb.org/en/stable/releases.html', 'https://pypi.org/project/fire/#history', 'https://pypi.org/project/ccxt/1.42.61/#history', 'https://beets.readthedocs.io/en/stable/changelog.html', 'http://docs.allennlp.org/main/CHANGELOG/', 'https://docs.nvidia.com/deeplearning/frameworks/theano-release-notes/index.html', 'https://pillow.readthedocs.io/en/stable/releasenotes/index.html', 'https://arrow.apache.org/release/', 'https://albumentations.ai/docs/release_notes/', 'http://www.paramiko.org/changelog.html', 'https://altair-viz.github.io/releases/changes.html', 'https://docs.scrapy.org/en/latest/news.html', 'https://werkzeug.palletsprojects.com/en/latest/changes/', 'https://featuretools.alteryx.com/en/stable/release_notes.html?highlight=release', 'http://www.gevent.org/changelog.html#id1', 'https://marshmallow.readthedocs.io/en/stable/changelog.html?highlight=releases', 'https://stanfordnlp.github.io/stanza/release_history.html', 'https://docker-py.readthedocs.io/en/stable/change-log.html', 'https://docs.cupy.dev/en/stable/upgrade.html?highlight=releases#api-changes', 'https://jedi.readthedocs.io/en/latest/docs/changelog.html', 'https://pyup.io/changelogs/asyncpg/', 'https://docs.telethon.dev/en/latest/misc/changelog.html?highlight=releases#deprecation', 'https://librosa.org/doc/latest/changelog.html', 'https://virtualenv.pypa.io/en/latest/changelog.html', 'https://trio.readthedocs.io/en/latest/history.html', 'https://pycqa.github.io/isort/CHANGELOG/', 'https://mechanicalsoup.readthedocs.io/en/stable/ChangeLog.html', 'https://github.com/kubernetes-client/python/blob/release-17.0/CHANGELOG.md', 'https://pyup.io/changelogs/pytorch-ignite/', 'http://rasbt.github.io/mlxtend/CHANGELOG/', 'https://apscheduler.readthedocs.io/en/latest/versionhistory.html', 'https://geopy.readthedocs.io/en/stable/#changelog', 'https://websockets.readthedocs.io/en/stable/changelog.html', 'https://github.com/gbeced/pyalgotrade/blob/master/CHANGELOG', 'https://emacs-lsp.github.io/lsp-mode/page/CHANGELOG/', 'https://www.pygame.org/whatsnew.shtml', 'https://docs.nvidia.com/deeplearning/dali/release-notes/index.html', 'https://dramatiq.io/changelog.html?highlight=releases', 'https://github.com/pksunkara/alpaca/blob/b86d46b3bf2c09826bd53e33399ac7055147dcc0/CHANGELOG.md', 'https://docs.python-cerberus.org/en/stable/changelog.html', 'https://docs.authlib.org/en/latest/changelog.html', 'http://www.pygal.org/en/stable/changelog.html', 'https://eli5.readthedocs.io/en/latest/changes.html', 'https://lief.quarkslab.com/doc/stable/changelog.html#v0.11.0', 'https://pyup.io/changelogs/thinc/', 'https://github.com/pyserial/pyserial/blob/master/CHANGES.rst', 'https://pyup.io/changelogs/pychromecast/', 'http://urwid.org/changelog.html', 'https://docs.celeryproject.org/projects/kombu/en/stable/changelog.html?highlight=releases', 'https://django-import-export.readthedocs.io/en/latest/changelog.html', 'https://www.enigma.co/catalyst/releases.html', 'https://github.com/viewflow/viewflow/blob/master/CHANGELOG.rst', 'https://pyquery.readthedocs.io/en/latest/changes.html?highlight=releases', 'https://python.libhunt.com/furl-changelog/2.0.0', 'https://docs.xlwings.org/en/stable/whatsnew.html', 'https://github.com/ping/instagram_private_api/blob/master/CHANGELOG.md', 'https://www.readbeyond.it/aeneas/docs/changelog.html', 'https://github.com/ijl/orjson/blob/master/CHANGELOG.md', 'https://github.com/pantsbuild/pex/blob/main/CHANGES.rst', 'https://github.com/EntilZha/PyFunctional/blob/master/CHANGELOG.md', 'https://github.com/bytedeco/javacpp-presets/blob/master/CHANGELOG.md', 'https://github.com/JelteF/PyLaTeX/blob/master/docs/source/changelog.rst', 'https://github.com/MTG/essentia/blob/master/Changelog', 'https://libcloud.readthedocs.io/en/latest/changelog.html', 'https://github.com/scrapy/scrapely/blob/master/NEWS', 'https://github.com/rlabbe/filterpy/blob/master/filterpy/changelog.txt', 'https://github.com/pgmpy/pgmpy/blob/dev/CHANGELOG.md', 'https://github.com/andrewssobral/bgslibrary/wiki/Release-notes', 'https://github.com/TDAmeritrade/stumpy/blob/main/CHANGELOG.md', 'https://pyup.io/changelogs/voluptuous/', 'https://tenacity.readthedocs.io/en/latest/changelog.html', 'https://github.com/rytilahti/python-miio/blob/master/CHANGELOG.md', 'https://docs.pyrogram.org/releases/', 'https://dpilger26.github.io/NumCpp/doxygen/html/md__c_1__github__num_cpp_docs_markdown__release_notes.html', 'https://rauth.readthedocs.io/en/latest/changelog/#', 'https://github.com/abseil/abseil-py/blob/master/absl/CHANGELOG.md', 'https://github.com/achillean/shodan-python/blob/master/CHANGELOG.md', 'https://dateutil.readthedocs.io/en/stable/changelog.html', 'https://pycryptodome.readthedocs.io/en/latest/src/changelog.html', 'https://github.com/google/aiyprojects-raspbian/blob/aiyprojects/CHANGES.md', 'https://github.com/patrikhuber/eos/releases', 'https://rqalpha.readthedocs.io/zh_CN/latest/history.html', 'https://nameko.readthedocs.io/en/stable/release_notes.html']\n"
     ]
    }
   ],
   "source": [
    "print(rn_urls)"
   ]
  },
  {
   "cell_type": "code",
   "execution_count": 59,
   "metadata": {},
   "outputs": [
    {
     "name": "stdout",
     "output_type": "stream",
     "text": [
      "['https://pandas.pydata.org/docs/whatsnew/index.html', 'https://github.com/google/aiyprojects-raspbian/blob/aiyprojects/CHANGES.md', 'https://pillow.readthedocs.io/en/stable/releasenotes/index.html', 'https://pycryptodome.readthedocs.io/en/latest/src/changelog.html', 'https://github.com/achillean/shodan-python/blob/master/CHANGELOG.md', 'https://github.com/scrapy/scrapely/blob/master/NEWS', 'https://docs.scrapy.org/en/latest/news.html', 'https://github.com/bytedeco/javacpp-presets/blob/master/CHANGELOG.md', 'https://github.com/JelteF/PyLaTeX/blob/master/docs/source/changelog.rst', 'http://urwid.org/changelog.html', 'https://github.com/pyserial/pyserial/blob/master/CHANGES.rst', 'https://websockets.readthedocs.io/en/stable/changelog.html', 'https://lief.quarkslab.com/doc/stable/changelog.html#v0.11.0', 'https://trio.readthedocs.io/en/latest/history.html', 'https://docs.pyrogram.org/releases/', 'https://pyquery.readthedocs.io/en/latest/changes.html?highlight=releases']\n"
     ]
    }
   ],
   "source": [
    "import random\n",
    "print(random.sample(rn_urls, 16))"
   ]
  },
  {
   "cell_type": "code",
   "execution_count": 79,
   "metadata": {},
   "outputs": [
    {
     "data": {
      "text/plain": [
       "'aiyprojects-raspbian/CHANGES.md at aiyprojects · google/aiyprojects-raspbian · GitHub'"
      ]
     },
     "execution_count": 79,
     "metadata": {},
     "output_type": "execute_result"
    }
   ],
   "source": [
    "url_to_title_map['https://github.com/google/aiyprojects-raspbian/blob/aiyprojects/CHANGES.md']"
   ]
  },
  {
   "cell_type": "code",
   "execution_count": 43,
   "metadata": {},
   "outputs": [
    {
     "data": {
      "text/plain": [
       "150"
      ]
     },
     "execution_count": 43,
     "metadata": {},
     "output_type": "execute_result"
    }
   ],
   "source": [
    "len(data)"
   ]
  },
  {
   "cell_type": "code",
   "execution_count": 42,
   "metadata": {},
   "outputs": [
    {
     "name": "stdout",
     "output_type": "stream",
     "text": [
      "['141 tags', '131 tags', '63 tags', '10 tags', '431 tags', '54 tags', '55 tags', '34 tags', '72 tags', '35 tags', '8 tags', '162 tags', '23 tags', '525 tags', '70 tags', '94 tags', '92 tags', '159 tags', '8 tags', '113 tags', '91 tags', '27 tags', '32 tags', '133 tags', '28 tags', '164 tags', '20 tags', '132 tags', '24 tags', '61 tags', '12 tags', '24 tags', '41 tags', '64 tags', '27 tags', '19 tags', '11 tags', '61 tags', '109 tags', '54 tags', '3 tags', '16 tags', '25 tags', '24 tags', '27 tags', '15 tags', '60 tags', '35 tags', '68 tags', '46 tags', '151 tags', '48 tags', '52 tags', '31 tags', '19 tags', '18 tags', '95 tags', '39 tags', '28 tags', '64 tags', '123 tags', '20 tags', '21 tags', '21 tags', '8 tags', '76 tags', '13 tags', '37 tags', '7 tags', '13 tags', '18 tags', '34 tags', '10 tags', '41 tags', '31 tags', '9 tags', '47 tags', '20 tags', '32 tags', '19 tags', '90 tags', '10 tags', '34 tags', '104 tags', '107 tags']\n",
      "85\n"
     ]
    }
   ],
   "source": [
    "print(r)\n",
    "print(len(r))\n",
    "for i in range(len(r)):\n",
    "    r[i] = int(r[i].split(\" \")[0])\n",
    "r.sort()"
   ]
  },
  {
   "cell_type": "code",
   "execution_count": 45,
   "metadata": {},
   "outputs": [
    {
     "data": {
      "text/plain": [
       "525"
      ]
     },
     "execution_count": 45,
     "metadata": {},
     "output_type": "execute_result"
    }
   ],
   "source": [
    "r[len(r)-1]"
   ]
  },
  {
   "cell_type": "code",
   "execution_count": 46,
   "metadata": {},
   "outputs": [
    {
     "name": "stdout",
     "output_type": "stream",
     "text": [
      "70\n",
      "13\n",
      "0\n",
      "0\n",
      "1\n",
      "1\n"
     ]
    }
   ],
   "source": [
    "def count(list1, l, r):\n",
    "    c = 0 \n",
    "    # traverse in the list1\n",
    "    for x in list1:\n",
    "        # condition check\n",
    "        if x>= l and x<= r:\n",
    "            c+= 1 \n",
    "    return c\n",
    "print(count(r,0,100))\n",
    "print(count(r,100,200))\n",
    "print(count(r,200,300))\n",
    "print(count(r,300,400))\n",
    "print(count(r,400,500))\n",
    "print(count(r,500,600))"
   ]
  },
  {
   "cell_type": "code",
   "execution_count": 54,
   "metadata": {},
   "outputs": [
    {
     "name": "stdout",
     "output_type": "stream",
     "text": [
      "31\n",
      "47\n",
      "2\n",
      "64\n",
      "15\n",
      "1\n"
     ]
    }
   ],
   "source": [
    "dl.sort()\n",
    "rl.sort()\n",
    "print(count(dl,0,0))\n",
    "print(count(dl,1,100))\n",
    "print(count(dl,101,400))\n",
    "print(count(rl,0,0))\n",
    "print(count(rl,1,50))\n",
    "print(count(rl,50,100))"
   ]
  },
  {
   "cell_type": "code",
   "execution_count": 82,
   "metadata": {},
   "outputs": [
    {
     "data": {
      "text/plain": [
       "[2,\n",
       " 101,\n",
       " 0,\n",
       " 0,\n",
       " 13,\n",
       " 3,\n",
       " 0,\n",
       " 5,\n",
       " 0,\n",
       " 18,\n",
       " 0,\n",
       " 14,\n",
       " 9,\n",
       " 4,\n",
       " 0,\n",
       " 2,\n",
       " 0,\n",
       " 2,\n",
       " 1,\n",
       " 0,\n",
       " 1,\n",
       " 3,\n",
       " 1,\n",
       " 0,\n",
       " 2,\n",
       " 0,\n",
       " 0,\n",
       " 4,\n",
       " 1,\n",
       " 2,\n",
       " 1,\n",
       " 4,\n",
       " 5,\n",
       " 0,\n",
       " 3,\n",
       " 0,\n",
       " 1,\n",
       " 0,\n",
       " 0,\n",
       " 0,\n",
       " 0,\n",
       " 2,\n",
       " 1,\n",
       " 13,\n",
       " 1,\n",
       " 5,\n",
       " 1,\n",
       " 0,\n",
       " 0,\n",
       " 1,\n",
       " 1,\n",
       " 1,\n",
       " 0,\n",
       " 2,\n",
       " 1,\n",
       " 1,\n",
       " 1,\n",
       " 0,\n",
       " 16,\n",
       " 1,\n",
       " 0,\n",
       " 0,\n",
       " 0,\n",
       " 1,\n",
       " 0,\n",
       " 0,\n",
       " 2,\n",
       " 0,\n",
       " 0,\n",
       " 0,\n",
       " 0,\n",
       " 3,\n",
       " 0,\n",
       " 0,\n",
       " 0,\n",
       " 0,\n",
       " 2,\n",
       " 0,\n",
       " 0,\n",
       " 0]"
      ]
     },
     "execution_count": 82,
     "metadata": {},
     "output_type": "execute_result"
    }
   ],
   "source": [
    "rl"
   ]
  }
 ],
 "metadata": {
  "kernelspec": {
   "display_name": "Python 3",
   "language": "python",
   "name": "python3"
  },
  "language_info": {
   "codemirror_mode": {
    "name": "ipython",
    "version": 3
   },
   "file_extension": ".py",
   "mimetype": "text/x-python",
   "name": "python",
   "nbconvert_exporter": "python",
   "pygments_lexer": "ipython3",
   "version": "3.8.3"
  }
 },
 "nbformat": 4,
 "nbformat_minor": 4
}
