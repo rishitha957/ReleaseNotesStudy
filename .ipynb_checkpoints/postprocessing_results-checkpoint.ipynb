{
 "cells": [
  {
   "cell_type": "code",
   "execution_count": 2,
   "metadata": {},
   "outputs": [],
   "source": [
    "import csv\n",
    "import numpy as np\n",
    "import pandas as pd"
   ]
  },
  {
   "cell_type": "code",
   "execution_count": 16,
   "metadata": {},
   "outputs": [
    {
     "name": "stderr",
     "output_type": "stream",
     "text": [
      "[nltk_data] Downloading package wordnet to\n",
      "[nltk_data]     C:\\Users\\Dell\\AppData\\Roaming\\nltk_data...\n",
      "[nltk_data]   Unzipping corpora\\wordnet.zip.\n"
     ]
    },
    {
     "data": {
      "text/plain": [
       "True"
      ]
     },
     "execution_count": 16,
     "metadata": {},
     "output_type": "execute_result"
    }
   ],
   "source": [
    "#import nltk\n",
    "#nltk.download('wordnet')"
   ]
  },
  {
   "cell_type": "code",
   "execution_count": 36,
   "metadata": {},
   "outputs": [],
   "source": [
    "from selenium import webdriver"
   ]
  },
  {
   "cell_type": "code",
   "execution_count": 1,
   "metadata": {},
   "outputs": [],
   "source": [
    "import nltk\n",
    "from nltk.corpus import wordnet"
   ]
  },
  {
   "cell_type": "code",
   "execution_count": 3,
   "metadata": {},
   "outputs": [],
   "source": [
    "from word_forms.word_forms import get_word_forms"
   ]
  },
  {
   "cell_type": "code",
   "execution_count": 47,
   "metadata": {},
   "outputs": [],
   "source": [
    "with open('deprecation_information2.csv', newline='') as f:\n",
    "    reader = csv.reader(f)\n",
    "    data_i = list(reader)"
   ]
  },
  {
   "cell_type": "code",
   "execution_count": 5,
   "metadata": {},
   "outputs": [
    {
     "name": "stdout",
     "output_type": "stream",
     "text": [
      "227\n",
      "226\n"
     ]
    }
   ],
   "source": [
    "print(len(data[0]))\n",
    "for i in range(len(data)):\n",
    "    data[i] = list(set(data[i]))\n",
    "print(len(data[0]))"
   ]
  },
  {
   "cell_type": "code",
   "execution_count": 6,
   "metadata": {},
   "outputs": [],
   "source": [
    "def jaccard_similarity(list1, list2):\n",
    "    intersection = len(list(set(list1).intersection(list2)))\n",
    "    union = (len(list1) + len(list2)) - intersection\n",
    "    return float(intersection) / union"
   ]
  },
  {
   "cell_type": "code",
   "execution_count": 27,
   "metadata": {},
   "outputs": [],
   "source": [
    "compare_string = ['deprecate']"
   ]
  },
  {
   "cell_type": "code",
   "execution_count": 28,
   "metadata": {},
   "outputs": [],
   "source": [
    "replace_string = ['replace','instead','in favour of']"
   ]
  },
  {
   "cell_type": "code",
   "execution_count": 9,
   "metadata": {},
   "outputs": [],
   "source": [
    "def get_synonyms(word):\n",
    "    synonyms = []\n",
    "    for syn in wordnet.synsets(word):\n",
    "        for lm in syn.lemmas():\n",
    "            synonyms.append(lm.name())#adding into synonyms\n",
    "    return list(set(synonyms))"
   ]
  },
  {
   "cell_type": "code",
   "execution_count": 10,
   "metadata": {},
   "outputs": [],
   "source": [
    "def get_all_word_forms(word):\n",
    "    dict1 = get_word_forms(word)\n",
    "    word_forms = []\n",
    "    for d in dict1.values():\n",
    "        for a in d:\n",
    "            word_forms += [a]\n",
    "    return list(set(word_forms))"
   ]
  },
  {
   "cell_type": "code",
   "execution_count": 29,
   "metadata": {},
   "outputs": [
    {
     "name": "stdout",
     "output_type": "stream",
     "text": [
      "['vilipend', 'deprecatory', 'deprecation', 'deprecating', 'deprecated', 'deprecatively', 'deprecates', 'deprecations', 'deprecative', 'deprecate', 'depreciate']\n"
     ]
    }
   ],
   "source": [
    "cmp_str = compare_string\n",
    "for c_str in compare_string:\n",
    "    cmp_str = cmp_str + get_synonyms(c_str)\n",
    "    cmp_str = cmp_str + get_all_word_forms(c_str)\n",
    "cmp_str = list(set(cmp_str))\n",
    "print(cmp_str)"
   ]
  },
  {
   "cell_type": "code",
   "execution_count": 30,
   "metadata": {},
   "outputs": [
    {
     "name": "stdout",
     "output_type": "stream",
     "text": [
      "['or_else', 'replaces', 'replace', 'in favour of', 'replacements', 'replaced', 'supersede', 'put_back', 'substitute', 'supercede', 'supplant', 'replacement', 'rather', 'supervene_upon', 'replacings', 'interchange', 'instead', 'exchange', 'alternatively', 'replacing']\n"
     ]
    }
   ],
   "source": [
    "rpl_str = replace_string\n",
    "for c_str in replace_string:\n",
    "    rpl_str = rpl_str + get_synonyms(c_str)\n",
    "    rpl_str = rpl_str + get_all_word_forms(c_str)\n",
    "rpl_str = list(set(rpl_str))\n",
    "print(rpl_str)"
   ]
  },
  {
   "cell_type": "code",
   "execution_count": 31,
   "metadata": {},
   "outputs": [],
   "source": [
    "file1 = open('deprecation_information_post_processed.csv', 'w', encoding=\"utf-8\", newline ='')\n",
    "write1 = csv.writer(file1)\n",
    "file2 = open('replacement_information_post_processed.csv', 'w', encoding=\"utf-8\", newline ='')\n",
    "write2 = csv.writer(file2)"
   ]
  },
  {
   "cell_type": "code",
   "execution_count": 51,
   "metadata": {},
   "outputs": [
    {
     "name": "stdout",
     "output_type": "stream",
     "text": [
      "4/227: Replacements - 0/4\n",
      "323/3883: Replacements - 66/323\n",
      "0/23: Replacements - 0/0\n",
      "0/155: Replacements - 0/0\n",
      "3/561: Replacements - 0/3\n",
      "3/279: Replacements - 0/3\n",
      "0/139: Replacements - 0/0\n",
      "35/2522: Replacements - 0/35\n",
      "0/36: Replacements - 0/0\n",
      "5/387: Replacements - 0/5\n",
      "0/70: Replacements - 0/0\n",
      "46/589: Replacements - 5/46\n",
      "17/337: Replacements - 3/17\n",
      "4/191: Replacements - 2/4\n",
      "2/99: Replacements - 0/2\n",
      "10/262: Replacements - 0/10\n",
      "0/9: Replacements - 0/0\n",
      "5/644: Replacements - 1/5\n",
      "2/53: Replacements - 0/2\n",
      "1/67: Replacements - 0/1\n",
      "1/158: Replacements - 0/1\n",
      "2/673: Replacements - 0/2\n",
      "13/118: Replacements - 0/13\n",
      "0/154: Replacements - 0/0\n",
      "41/194: Replacements - 2/41\n",
      "5/143: Replacements - 0/5\n",
      "3/51: Replacements - 0/3\n",
      "6/243: Replacements - 2/6\n",
      "2/107: Replacements - 0/2\n",
      "3/133: Replacements - 0/3\n",
      "0/78: Replacements - 0/0\n",
      "2/356: Replacements - 0/2\n",
      "39/487: Replacements - 1/39\n",
      "2/167: Replacements - 0/2\n",
      "5/67: Replacements - 1/5\n",
      "2/40: Replacements - 0/2\n",
      "0/52: Replacements - 0/0\n",
      "1/72: Replacements - 0/1\n",
      "0/94: Replacements - 0/0\n",
      "1/88: Replacements - 0/1\n",
      "3/162: Replacements - 0/3\n",
      "0/82: Replacements - 0/0\n",
      "2/237: Replacements - 0/2\n",
      "8/545: Replacements - 1/8\n",
      "3/114: Replacements - 1/3\n",
      "0/105: Replacements - 0/0\n",
      "0/38: Replacements - 0/0\n",
      "0/37: Replacements - 0/0\n",
      "0/7: Replacements - 0/0\n",
      "2/322: Replacements - 0/2\n",
      "2/19: Replacements - 1/2\n",
      "1/140: Replacements - 0/1\n",
      "0/100: Replacements - 0/0\n",
      "4/166: Replacements - 0/4\n",
      "0/42: Replacements - 0/0\n",
      "3/236: Replacements - 0/3\n",
      "1/109: Replacements - 0/1\n",
      "0/43: Replacements - 0/0\n",
      "20/761: Replacements - 8/20\n",
      "1/9: Replacements - 1/1\n",
      "2/145: Replacements - 0/2\n",
      "0/40: Replacements - 0/0\n",
      "0/18: Replacements - 0/0\n",
      "0/127: Replacements - 0/0\n",
      "0/43: Replacements - 0/0\n",
      "0/13: Replacements - 0/0\n",
      "3/219: Replacements - 0/3\n",
      "0/20: Replacements - 0/0\n",
      "0/63: Replacements - 0/0\n",
      "0/73: Replacements - 0/0\n",
      "1/60: Replacements - 0/1\n",
      "6/178: Replacements - 1/6\n",
      "3/166: Replacements - 0/3\n",
      "0/39: Replacements - 0/0\n",
      "0/65: Replacements - 0/0\n",
      "0/49: Replacements - 0/0\n",
      "14/48: Replacements - 2/14\n",
      "0/130: Replacements - 0/0\n",
      "0/7421: Replacements - 0/0\n",
      "180/5341: Replacements - 0/180\n"
     ]
    }
   ],
   "source": [
    "dl = []\n",
    "rl = []\n",
    "for i in range(len(data_i)):\n",
    "#     print(len(data[i]))\n",
    "    c=0\n",
    "    r=0\n",
    "    for j in range(len(data_i[i])):\n",
    "#         print(data[i][j])\n",
    "        s_score = jaccard_similarity(data_i[i][j].split(\" \"),cmp_str)\n",
    "        if(s_score!=0.0):\n",
    "            c+=1\n",
    "            write1.writerow([str(data_i[i][j])])\n",
    "            r_score = jaccard_similarity(data_i[i][j].split(\" \"),rpl_str)\n",
    "            if(r_score!=0.0):\n",
    "                r+=1\n",
    "                write2.writerow([str(data_i[i][j])])\n",
    "#             print(data[i][j],r_score)\n",
    "    rl.append(int(r))\n",
    "    dl.append(int(c))\n",
    "    print(str(c)+\"/\"+str(len(data_i[i]))+\": Replacements - \"+str(r)+\"/\"+str(c))"
   ]
  },
  {
   "cell_type": "code",
   "execution_count": 37,
   "metadata": {},
   "outputs": [],
   "source": [
    "#results\n",
    "\n",
    "file_name = \"python_libraries - python_libraries.csv\"\n",
    "with open(file_name,newline=\"\") as f:\n",
    "    reader = csv.reader(f)\n",
    "    data = list(reader)\n",
    "driver = webdriver.Firefox()\n",
    "r =[]\n",
    "for i in range(len(data)):\n",
    "    if(data[i][1]=='-' or data[i][1]==''): \n",
    "        continue\n",
    "    git_url = data[i][0]\n",
    "    driver.get(git_url)\n",
    "#     stars = driver.find_element_by_xpath('//*[contains(concat( \" \", @class, \" \" ), concat( \" \", \"js-social-count\", \" \" ))]').text\n",
    "#     forks = driver.find_element_by_xpath('//form+//*[contains(concat( \" \", @class, \" \" ), concat( \" \", \"social-count\", \" \" ))]').text\n",
    "    try:\n",
    "        releases = driver.find_element_by_xpath('//*+[contains(concat( \" \", @class, \" \" ), concat( \" \", \"hide-md\", \" \" ))]//*[contains(concat( \" \", @class, \" \" ), concat( \" \", \"BorderGrid-row\", \" \" ))]//*[contains(concat( \" \", @class, \" \" ), concat( \" \", \"Counter\", \" \" ))]').text\n",
    "        r.append(releases)\n",
    "    except:\n",
    "        releases = driver.find_element_by_xpath('//*[contains(concat( \" \", @class, \" \" ), concat( \" \", \"ml-3\", \" \" )) and contains(concat( \" \", @class, \" \" ), concat( \" \", \"no-underline\", \" \" ))]').text\n",
    "        r.append(releases)"
   ]
  },
  {
   "cell_type": "code",
   "execution_count": 43,
   "metadata": {},
   "outputs": [
    {
     "data": {
      "text/plain": [
       "150"
      ]
     },
     "execution_count": 43,
     "metadata": {},
     "output_type": "execute_result"
    }
   ],
   "source": [
    "len(data)"
   ]
  },
  {
   "cell_type": "code",
   "execution_count": 42,
   "metadata": {},
   "outputs": [
    {
     "name": "stdout",
     "output_type": "stream",
     "text": [
      "['141 tags', '131 tags', '63 tags', '10 tags', '431 tags', '54 tags', '55 tags', '34 tags', '72 tags', '35 tags', '8 tags', '162 tags', '23 tags', '525 tags', '70 tags', '94 tags', '92 tags', '159 tags', '8 tags', '113 tags', '91 tags', '27 tags', '32 tags', '133 tags', '28 tags', '164 tags', '20 tags', '132 tags', '24 tags', '61 tags', '12 tags', '24 tags', '41 tags', '64 tags', '27 tags', '19 tags', '11 tags', '61 tags', '109 tags', '54 tags', '3 tags', '16 tags', '25 tags', '24 tags', '27 tags', '15 tags', '60 tags', '35 tags', '68 tags', '46 tags', '151 tags', '48 tags', '52 tags', '31 tags', '19 tags', '18 tags', '95 tags', '39 tags', '28 tags', '64 tags', '123 tags', '20 tags', '21 tags', '21 tags', '8 tags', '76 tags', '13 tags', '37 tags', '7 tags', '13 tags', '18 tags', '34 tags', '10 tags', '41 tags', '31 tags', '9 tags', '47 tags', '20 tags', '32 tags', '19 tags', '90 tags', '10 tags', '34 tags', '104 tags', '107 tags']\n",
      "85\n"
     ]
    }
   ],
   "source": [
    "print(r)\n",
    "print(len(r))\n",
    "for i in range(len(r)):\n",
    "    r[i] = int(r[i].split(\" \")[0])\n",
    "r.sort()"
   ]
  },
  {
   "cell_type": "code",
   "execution_count": 45,
   "metadata": {},
   "outputs": [
    {
     "data": {
      "text/plain": [
       "525"
      ]
     },
     "execution_count": 45,
     "metadata": {},
     "output_type": "execute_result"
    }
   ],
   "source": [
    "r[len(r)-1]"
   ]
  },
  {
   "cell_type": "code",
   "execution_count": 46,
   "metadata": {},
   "outputs": [
    {
     "name": "stdout",
     "output_type": "stream",
     "text": [
      "70\n",
      "13\n",
      "0\n",
      "0\n",
      "1\n",
      "1\n"
     ]
    }
   ],
   "source": [
    "def count(list1, l, r):\n",
    "    c = 0 \n",
    "    # traverse in the list1\n",
    "    for x in list1:\n",
    "        # condition check\n",
    "        if x>= l and x<= r:\n",
    "            c+= 1 \n",
    "    return c\n",
    "print(count(r,0,100))\n",
    "print(count(r,100,200))\n",
    "print(count(r,200,300))\n",
    "print(count(r,300,400))\n",
    "print(count(r,400,500))\n",
    "print(count(r,500,600))"
   ]
  },
  {
   "cell_type": "code",
   "execution_count": 54,
   "metadata": {},
   "outputs": [
    {
     "name": "stdout",
     "output_type": "stream",
     "text": [
      "31\n",
      "47\n",
      "2\n",
      "64\n",
      "15\n",
      "1\n"
     ]
    }
   ],
   "source": [
    "dl.sort()\n",
    "rl.sort()\n",
    "print(count(dl,0,0))\n",
    "print(count(dl,1,100))\n",
    "print(count(dl,101,400))\n",
    "print(count(rl,0,0))\n",
    "print(count(rl,1,50))\n",
    "print(count(rl,50,100))"
   ]
  },
  {
   "cell_type": "code",
   "execution_count": 53,
   "metadata": {},
   "outputs": [
    {
     "name": "stdout",
     "output_type": "stream",
     "text": [
      "[0, 0, 0, 0, 0, 0, 0, 0, 0, 0, 0, 0, 0, 0, 0, 0, 0, 0, 0, 0, 0, 0, 0, 0, 0, 0, 0, 0, 0, 0, 0, 1, 1, 1, 1, 1, 1, 1, 1, 2, 2, 2, 2, 2, 2, 2, 2, 2, 2, 2, 3, 3, 3, 3, 3, 3, 3, 3, 3, 4, 4, 4, 5, 5, 5, 5, 6, 6, 8, 10, 13, 14, 17, 20, 35, 39, 41, 46, 180, 323]\n"
     ]
    }
   ],
   "source": [
    "print(dl)"
   ]
  }
 ],
 "metadata": {
  "kernelspec": {
   "display_name": "Python 3",
   "language": "python",
   "name": "python3"
  },
  "language_info": {
   "codemirror_mode": {
    "name": "ipython",
    "version": 3
   },
   "file_extension": ".py",
   "mimetype": "text/x-python",
   "name": "python",
   "nbconvert_exporter": "python",
   "pygments_lexer": "ipython3",
   "version": "3.8.3"
  }
 },
 "nbformat": 4,
 "nbformat_minor": 4
}
