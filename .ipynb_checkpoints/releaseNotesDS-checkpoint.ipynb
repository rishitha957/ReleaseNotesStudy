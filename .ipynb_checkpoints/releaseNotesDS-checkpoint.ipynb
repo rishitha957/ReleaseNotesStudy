{
 "cells": [
  {
   "cell_type": "code",
   "execution_count": 1,
   "metadata": {},
   "outputs": [],
   "source": [
    "from selenium import webdriver\n",
    "from time import sleep\n",
    "# from bs4 import BeautifulSoup, Comment\n",
    "import pandas as pd\n",
    "import csv"
   ]
  },
  {
   "cell_type": "code",
   "execution_count": 38,
   "metadata": {},
   "outputs": [],
   "source": [
    "driver = webdriver.Firefox()"
   ]
  },
  {
   "cell_type": "code",
   "execution_count": 39,
   "metadata": {
    "scrolled": true
   },
   "outputs": [],
   "source": [
    "hrefs = []\n",
    "url_1 = \"https://github.com/search?o=desc&p=\"\n",
    "url_2 = \"&q=python+library&s=stars&type=Repositories\"\n",
    "for i in range(1,21):\n",
    "    sleep(5)\n",
    "    url = url_1+str(i)+url_2\n",
    "    driver.get(url)\n",
    "    elems = driver.find_elements_by_xpath('//div[@class=\"f4 text-normal\"]/a[@class=\"v-align-middle\"]')\n",
    "    for e in elems:\n",
    "        hrefs.append(e.get_attribute('href'))"
   ]
  },
  {
   "cell_type": "code",
   "execution_count": 40,
   "metadata": {},
   "outputs": [
    {
     "name": "stdout",
     "output_type": "stream",
     "text": [
      "https://github.com/vinta/awesome-python\n"
     ]
    }
   ],
   "source": [
    "print(hrefs[0])"
   ]
  },
  {
   "cell_type": "code",
   "execution_count": 41,
   "metadata": {},
   "outputs": [
    {
     "name": "stdout",
     "output_type": "stream",
     "text": [
      "180\n",
      "224\n"
     ]
    }
   ],
   "source": [
    "print(len(hrefs))\n",
    "url_2 = \"&q=python+frameworks&s=stars&type=Repositories\"\n",
    "for i in range(1,6):\n",
    "    sleep(3)\n",
    "    url = url_1+str(i)+url_2\n",
    "    driver.get(url)\n",
    "    elems = driver.find_elements_by_xpath('//div[@class=\"f4 text-normal\"]/a[@class=\"v-align-middle\"]')\n",
    "    for e in elems:\n",
    "        hrefs.append(e.get_attribute('href'))\n",
    "seen = set()\n",
    "seen_add = seen.add\n",
    "hrefs = [x for x in hrefs if not (x in seen or seen_add(x))]\n",
    "print(len(hrefs))"
   ]
  },
  {
   "cell_type": "code",
   "execution_count": 42,
   "metadata": {},
   "outputs": [],
   "source": [
    "with open(\"python_libraries.csv\",\"w\",newline=\"\") as f:\n",
    "    w = csv.writer(f)\n",
    "    for href in hrefs:\n",
    "        w.writerow([href])"
   ]
  }
 ],
 "metadata": {
  "kernelspec": {
   "display_name": "Python 3",
   "language": "python",
   "name": "python3"
  },
  "language_info": {
   "codemirror_mode": {
    "name": "ipython",
    "version": 3
   },
   "file_extension": ".py",
   "mimetype": "text/x-python",
   "name": "python",
   "nbconvert_exporter": "python",
   "pygments_lexer": "ipython3",
   "version": "3.8.3"
  }
 },
 "nbformat": 4,
 "nbformat_minor": 5
}
